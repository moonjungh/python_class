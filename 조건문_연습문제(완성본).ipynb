{
  "nbformat": 4,
  "nbformat_minor": 0,
  "metadata": {
    "colab": {
      "name": "조건문_연습문제(완성본).ipynb",
      "provenance": [],
      "authorship_tag": "ABX9TyMtiavRKZMSY19DGSrNNC4V",
      "include_colab_link": true
    },
    "kernelspec": {
      "name": "python3",
      "display_name": "Python 3"
    },
    "language_info": {
      "name": "python"
    }
  },
  "cells": [
    {
      "cell_type": "markdown",
      "metadata": {
        "id": "view-in-github",
        "colab_type": "text"
      },
      "source": [
        "<a href=\"https://colab.research.google.com/github/moonjungh/python_class/blob/main/%EC%A1%B0%EA%B1%B4%EB%AC%B8_%EC%97%B0%EC%8A%B5%EB%AC%B8%EC%A0%9C(%EC%99%84%EC%84%B1%EB%B3%B8).ipynb\" target=\"_parent\"><img src=\"https://colab.research.google.com/assets/colab-badge.svg\" alt=\"Open In Colab\"/></a>"
      ]
    },
    {
      "cell_type": "markdown",
      "source": [
        "**문제1) 입력된 두 정수(a,b)중 큰 값을 출력하는 프로그램을 작성해보자**\n",
        ".\n",
        "\n",
        "![화면 캡처 2022-08-17 233902.jpg](data:image/jpeg;base64,/9j/4AAQSkZJRgABAQEAeAB4AAD/2wBDAAMCAgMCAgMDAwMEAwMEBQgFBQQEBQoHBwYIDAoMDAsKCwsNDhIQDQ4RDgsLEBYQERMUFRUVDA8XGBYUGBIUFRT/2wBDAQMEBAUEBQkFBQkUDQsNFBQUFBQUFBQUFBQUFBQUFBQUFBQUFBQUFBQUFBQUFBQUFBQUFBQUFBQUFBQUFBQUFBT/wAARCAEkAGEDASIAAhEBAxEB/8QAHwAAAQUBAQEBAQEAAAAAAAAAAAECAwQFBgcICQoL/8QAtRAAAgEDAwIEAwUFBAQAAAF9AQIDAAQRBRIhMUEGE1FhByJxFDKBkaEII0KxwRVS0fAkM2JyggkKFhcYGRolJicoKSo0NTY3ODk6Q0RFRkdISUpTVFVWV1hZWmNkZWZnaGlqc3R1dnd4eXqDhIWGh4iJipKTlJWWl5iZmqKjpKWmp6ipqrKztLW2t7i5usLDxMXGx8jJytLT1NXW19jZ2uHi4+Tl5ufo6erx8vP09fb3+Pn6/8QAHwEAAwEBAQEBAQEBAQAAAAAAAAECAwQFBgcICQoL/8QAtREAAgECBAQDBAcFBAQAAQJ3AAECAxEEBSExBhJBUQdhcRMiMoEIFEKRobHBCSMzUvAVYnLRChYkNOEl8RcYGRomJygpKjU2Nzg5OkNERUZHSElKU1RVVldYWVpjZGVmZ2hpanN0dXZ3eHl6goOEhYaHiImKkpOUlZaXmJmaoqOkpaanqKmqsrO0tba3uLm6wsPExcbHyMnK0tPU1dbX2Nna4uPk5ebn6Onq8vP09fb3+Pn6/9oADAMBAAIRAxEAPwD9PaKKKACiiigAooooAKKKKACiiigAooooAKKKKACvAP20viF4j+Hvwz0aXQtUl8OWep67aabrHiKGLzJNKsZSRJOvBCnIVdx6buMEg17/AFy/xUujZfDLxbcrHDK8Gk3UqpcRLLGWWFiNyMCrDI6EEGs6klCPO9UtfW2tvnsaU05SUV10+/S/y3PmT4LeMJPDf7SWm+B/BfxW1X4xeDNQ0W4v9Vn1XUo9VfSpkbEbC7jAADnC+X2znuKw/wBnfxHZ6H+xb8StV1zVPEGn6fa65qjT33hu4WPU4UEkYzbu5AVvTJ9a5f4EftgXfg/4b6THYfD34a2tzcQiW7uLfx1o2hPcyc/PJZrEpib/AGSMivTP2UtFtP2hv2VfF+ha7Bb6Pp+ta1qFrMvh1LeHy03RnKOkflu3/TQqd3Wt6kZctSMdWoNfPmTX+XojmjKPNCUtE5p/+SS/4f1+88p8Ea/418N+PtM8WeGtR+Mg8FWugalqF5e/Fyee40vzBau9tIVti26LOCcAseNvNdt+wP8AE7V/it8YvjTreqaxp2rfav7NlDaGt1Hp27y5ELQx3IWRchADuUEkHtiue8F/DX43fDbxPp93ZfDr4l+JbHSJgLKy1n4u2D2TxplUBgECjbjHynpgelej/sl+ILrxJ+0Z8c73W/CN34M8WSf2WdU02bWIdRijPlOIxG0USAfIAT8zfe7YraDUpNrblfr8Sev328rL5TNNQtLfmj6dtPu+dz0n9pz4heKPC9r4K8L+Cr+DR/E3jLW49Jh1a4t1uFsIgjPLMI2+V2CqMK3Bya+Tfir8bfivPZv8PvEtqmsnwr4502xvfHlhdx2TXAd98Mb2SDOXQnJU7RjBGeT9bftOfDXxL400nwl4g8FwW954s8H63DrNnYXUwhS9QKyS2/mHhCytwTxxzXyd8cPgD4h8L6HZ/E3xjrWo2PivxN470+4vPC+nagJNJt42lxCrrsHmzRouPMzjkgDueej/ABFzbcy/Onb/ANu2+fQ0rX5Hy/yv8p3/APbd/lrdn0D+w3cS3GlfGDzZHk2fEXV0XexOFHlYA9qX9nn4uaj40/aa+PPhq816bUdN0a6tF0uykcFLZVEiXAT/ALabQffFcP8As7t44/4VT8dl+HMemv4tk+I2qx2raq5WGMM0KvJwOSqksAeDjv0Oho/7FXiP4UQ+C/E/w48T2cXxJ05pE8QX2ro7WuuRzyb5xKF+Y7STt6EgDJBAIuPxQctuSK+bjFp+itq+z06lT+GSW/M38lJ3Xq+hvfskf8ls/aR/7GqP/wBAkr6hr5c/ZF3D40/tH7yC3/CUx5KjAJ2Sdq+o6j7FP/DD/wBJRMfin/in/wClMKKKKRYVFeWcGoWk9rdQR3NrOjRSwzIHSRGGGVlPBBBIINS0Ub6MDzn/AIZt+Ef/AESzwV/4T1p/8brr/C/g/QfA+l/2b4c0TTfD+nbzL9j0u0jtod5xltiADJwOcdq16Kd2KyCua0H4b+G/DPi7xD4o0zS0tde8QGI6neLI7G58pdseVLFRgcfKBXS0UtndD3VmFRXFpBeIqXEMc6KwYLIgYAjoee9S0UAZmheF9G8LreLo2kWOkLe3L3l0tjbJAJ53xvlfaBudsDLHk4GTWnRRQBi6D4L0LwvqOr3+k6Taade6vOLnULi3iCPdSjPzyEfePJ5PrW1RRQAUUUUAFFL/AGZff8/lv/4DN/8AHKP7Mvv+fy3/APAZv/jlACUUv9mX3/P5b/8AgM3/AMco/sy+/wCfy3/8Bm/+OUAJRS/2Zff8/lv/AOAzf/HKP7Mvv+fy3/8AAZv/AI5QAlFL/Zl9/wA/lv8A+Azf/HKP7Mvv+fy3/wDAZv8A45QAlFL/AGZff8/lv/4DN/8AHKP7Mvv+fy3/APAZv/jlACUUv9mX3/P5b/8AgM3/AMco/sy+/wCfy3/8Bm/+OUAJRS/2Zff8/lv/AOAzf/HKKANWiiigAooooAKKKKACiiigAooooAKKKKACiiigAoorm/FutQ6DDPfXl8mnafa27XFxczzCKKKNQxZ3YkBVABJJ4AFTKXKrmtOn7SXKdJRXjHwp+Nmm/GJPFN14evlvtI0XWX0eLUba4aSK8ZLeCR5EOB8oeZkBBZWEe9WIYVXb4keNPEV1eS+DNC0vVtGtbqewa+1rX5tPeW4glaKcRxR2k5MaSI8e5yhZo3IUpskfP2nkdP1XS6ke30V4xL8ZEuvC+lX+lwXd1q+r382j2Ok3U3kt/aEJnE8E0o3oiwm1uS8i7wVhbyvOLRq5pPxF8U6fr2maX4y0ix0VtYle20y40fWZdRiluEikmaGXfbwNGxiildSFZSIpAzI3lrIe08g+qv8AmPZ6K5L7dcf895f++zR9uuP+e8v/AH2aXtV2K+py7nW0V4h4A+NFx48+IXjbw9DYy2+neH/s/wBl1X7WW/tDdLdW8/7oqDF5VzZXEXJO/ZuHylSc7RPif8SvFkeo3mh+FfD0ml2+qahpsMuoeKrmCeT7LdzWzO0aafIq7mhZgA7YBHNV7TyI+q/3j6AoryDVPiFr3h/w/pA1TT7f/hLdXumsLHSLDU5JbaS42SygG6eGMrGsMMkrsYsgI6osr7Fdvh34h+KLLxRouk+NNHsdGOs3BtdNn0fWJdRilnSN5mhl328DRsYopXUhWQiKQMyN5ayHtPIHhWup7DRRRWpxBXP+IP8Aj8T/AK5j+ZroKw9ct5ZrtCkTuNgGVUnuayqfCdeFaVTU8l+GP/I7fFz/ALGiD/0y6XWj4g8Xate6vcaB4PtLO+1S22jUNQ1CR1s9L3qCgYIC08+1lkFurJlMF5YfMhMmv4X8C3HhvW/F2ob5bj/hINUj1Ly/IK+RtsrW12Zyd2fsu/OB9/GOMnjdJ+GHxK8M3Wtf2P4q8PfZ9S1S61IvqXhS5uLo+bKWRJZl1CMSeVH5cKHaMRwxqAAoFYWPT5rKx0el6HaeA/C8GhabqkNrqV7LdG0u9WxK13qExmupZWiVo/MZnM0zRxFBtDhQiqNvG3Vr4h034heA28cappmvwzX9zDpH9h6bJpy2uofYbh/NmSSecyqbZLxARIgRpBmOUsrwdhqnw917xB4f0g6pqFv/AMJbpF01/Y6vYaZJFbR3GyWIE2rzSFo2hmkidTLkh3ZGifYyV9J+HXinUNe0zVPGWr2OtNo8r3OmW+j6NLp0UVw8UkLTS77idpGEUsqKAyqBLIWV28towHJaHaV558dPiHD8PPA4c63Z+HNR1i6j0iw1XUJYo4LOaUMWuWaX92fJiSacRuVEphEYO6RQfSfsVx/zwl/74NH2K4/54S/98GpV77GjkmrJnz58JPG3w5i+NOp+HfCPinQLyxj8JaFpek2ljq8Vy0i20uqFoozvZpGjiMbNyWCsC3XNdD4V+EPizTLXU4pviJqehQzazql9a2fh60sTEsNzfT3Kea91bTO8uJsMVKIAFUKSpkk9BsfAtxZ/ELWvE++V/wC0tLsNN+y+QR5f2aW8k37887vteMYGPL6ndxzzfDfxp4duryLwZrul6To11dT37WOtaBNqDxXE8rSzmOWO7gIjeR3k2uHKtI4DBNkaWZKyWvnsefeItc1r4hWfwpkjvodE1pPG+qaTNqFrbCRd1rZazayzwxSMQjSCB3RXMixs67vOCEP3Gntrvw58ceDbK98Van4wsfEmpvpjLrEFnFLZyJaXF0ssTW0EIKkWzoyOrEl42Vk2MsmjL8G0tfC+lWGlz3drq+kX82sWOrXUPnN/aExnM880Q2I6zG6uQ8a7AFmbyvJKxsk3h34eeKL3xRoureNNYsdZOjXButNt9H0aXToop3jeFppd9xO0jCKWVFAZUAlkLK7eW0YiZPR66+p7DRRRXWeIFFFFABRRRQAUUUUAFFFFABRRRQAUUUUAFFFFABRRRQAUUUUAFFFFABRRRQAUUUUAFFFFABRRRQAUUUUAFFFFABRRRQAUUUUAFFFFABRRRQAUUUUAVP7Jsf8Anyt/+/S/4Uf2TY/8+Vv/AN+l/wAKqbpv+fu4/wDIf/xFG6b/AJ+7j/yH/wDEUAW/7Jsf+fK3/wC/S/4Uf2TY/wDPlb/9+l/wqpum/wCfu4/8h/8AxFG6b/n7uP8AyH/8RQBb/smx/wCfK3/79L/hR/ZNj/z5W/8A36X/AAqpum/5+7j/AMh//EUbpv8An7uP/If/AMRQBb/smx/58rf/AL9L/hR/ZNj/AM+Vv/36X/Cqm6b/AJ+7j/yH/wDEUbpv+fu4/wDIf/xFAFv+ybH/AJ8rf/v0v+FH9k2P/Plb/wDfpf8ACqm6b/n7uP8AyH/8RRum/wCfu4/8h/8AxFAFv+ybH/nyt/8Av0v+FH9k2P8Az5W//fpf8Kqbpv8An7uP/If/AMRRum/5+7j/AMh//EUAW/7Jsf8Anyt/+/S/4UVU3Tf8/dx/5D/+IooAKKKKACiiigAooooAKKKKACiiigAooooAKKKKACvOP2gte17w78Mb+58NHxBFrLywxQ3HhnRodWvIcuMsLaVlRlIBUkn5d2e2R6PXgX7bngjwh4m+A+t6t4tt5Gj0GP7Xa3cFt9qktXZ0QusJmiWQkHGGcDnNZVHyxv2NKavJI+cG8F/taXPixPH0fiDxH/Z8cX2FbWW00uPVGtiC5l/s3d9l3BuPmk838K95tPHmpL+yj4r1j4g6j8QrCbT0mW71ZtKttC1zYGUh7aONzGuAwUPkZwa+G7f9j2/1DydUs/D/AI+nimtw0MY8CWQhkVhuVsf2v3yOfTtX2P8Asz/su6dJ+yrfeGPFXh668Ia94shlg19bNvLuCEnkEJAfeiHy9vRec810VIv2NRLe1kvN/wBO/qYQl+8hJ7X19Lf1Y8e8Ea/418N+PtM8WeGtR+Mg8FWugalqF5e/Fyee40vzBau9tIVti26LOCcAseNvNdt+wP8AE7V/it8YvjTreqaxp2rfav7NlDaGt1Hp27y5ELQx3IWRchADuUEkHtiue8F/DX43fDbxPp93ZfDr4l+JbHSJgLKy1n4u2D2TxplUBgECjbjHynpgelej/sl+ILrxJ+0Z8c73W/CN34M8WSf2WdU02bWIdRijPlOIxG0USAfIAT8zfe7YraDUpNrblfr8Sev328rL5ZzTULS35o+nbT7vnc9J/ac+IXijwva+CvC/gq/g0fxN4y1uPSYdWuLdbhbCIIzyzCNvldgqjCtwcmvk34q/G34rz2b/AA+8S2qayfCvjnTbG98eWF3HZNcB33wxvZIM5dCclTtGMEZ5P1t+058NfEvjTSfCXiDwXBb3nizwfrcOs2dhdTCFL1ArJLb+YeELK3BPHHNfJ3xw+APiHwvodn8TfGOtajY+K/E3jvT7i88L6dqAk0m3jaXEKuuwebNGi48zOOSAO556P8Rc23Mvzp2/9u2+fQ0rX5Hy/wAr/Kd//bd/lrdn0D+w3cS3GlfGDzZHk2fEXV0XexOFHlYA9qX9nn4uaj40/aa+PPhq816bUdN0a6tF0uykcFLZVEiXAT/tptB98Vw/7O7eOP8AhVPx2X4cx6a/i2T4jarHatqrlYYwzQq8nA5KqSwB4OO/Q6Gj/sVeI/hRD4L8T/DjxPZxfEnTmkTxBfaujta65HPJvnEoX5jtJO3oSAMkEAi4/FBy25Ir5uMWn6K2r7PTqVP4ZJb8zfyUnder6G9+yR/yWz9pH/sao/8A0CSvqGvlz9kXcPjT+0fvILf8JTHkqMAnZJ2r6jqPsU/8MP8A0lEx+Kf+Kf8A6UwooopFhWL408GaN8QvC+oeHfENiupaNfoI7m1d2QSKCGxlSCOQOhraopNJqzGm07o8B/4YJ+Av/RPLX/wOu/8A47Xq/wAOfhn4Z+EvhmPw94S0pNH0eOR5ltY5HkAdjljl2Y8n3rp6Krmfcmy7BXNaD8N/Dfhnxd4h8UaZpaWuveIDEdTvFkdjc+Uu2PKliowOPlArpaKWzuh7qzCori0gvEVLiGOdFYMFkQMAR0PPepaKAMzQvC+jeF1vF0bSLHSFvbl7y6WxtkgE8743yvtA3O2BljycDJrToooAxdB8F6F4X1HV7/SdJtNOvdXnFzqFxbxBHupRn55CPvHk8n1raoooAKKKKAG/ZtR/54Wv/gQ3/wARR9m1H/nha/8AgQ3/AMRWxRQBj/ZtR/54Wv8A4EN/8RR9m1H/AJ4Wv/gQ3/xFbFFAGP8AZtR/54Wv/gQ3/wARR9m1H/nha/8AgQ3/AMRWxRQBj/ZtR/54Wv8A4EN/8RR9m1H/AJ4Wv/gQ3/xFbFFAGP8AZtR/54Wv/gQ3/wARR9m1H/nha/8AgQ3/AMRWxRQBj/ZtR/54Wv8A4EN/8RR9m1H/AJ4Wv/gQ3/xFbFFAGP8AZtR/54Wv/gQ3/wARRWxRQAUUUUAFFFFABRRRQAUUUUAFFFFABRRRQAUUUUAFY+sahPa3SpFJtUoDjAPc1sV5r8avFV34V0TfpMcNz4i1Ax6do9rcKWjlvJWKxl1Uh2ijG6aXZllhhlcA7azqXtodOHSc/eRR8J/Gy18Z+OPFvhjT1vPtHhv7P599JDH9luvNMqnyHViX8uS3mikyBtkidOSpxjWfx91zWHvn0f4d+LNZsbW/u9OF9bSaTHFNJbXElvKUWW9R9vmROBuVSQM45rB+GXhW08E/FvxHodlJNcQ2fhLQUa6umDT3Mhu9YaSeZgBvlkctI74yzuzHkmq/gfwj8UdH03VbW11Pwz4bszr2sXVvBqGlTapPPDPqVzcRzM8d3AsW5JlxFhyAoYuCxjjx5vM9H2cWl7vfoj0e6+K11pfhez1TU9K1PTNSvZTbWnh+UW0t/cXGW2QoIpXiLMqM+fM2ogZ5GRUcrH4V+Ll7q3iCy0nXPDus+D7q9fbYrrRs2S+ZQWkjje2nmUSKgL7HKsyq7IGEchTyvxj4u1bxtD8J9Q0W0s7DXB4y1DTZI7+R5ba3uLfT9XtbhwVCtNGrxSugxEZQEDGEuSnYaffeIfD/AI48G2fjabQPEi6pqb2+lXmlaRJZS6feLaXEpYrLcT7leCO5TzEZGUkLtdZWaMTfcUows2l+CPeKKKK6jxgooooAKKKKACiiigArhviV4L8PeOo4LDxJoWmeIbGMrOlrqtnHcxLINyhwrqQGAZhnrhj613NFTJcysa0qns5czVz558I/s/8AhTwZ8WNT8V6T4S8M6Vbtpdla6f8A2fpsUM9rcJJe/aZF2xgJ5kdxAhZTlhGQ3CrnQa1+IPhS6vLTQ7PRvFelzXU97Dda/rtxZXVv50rSNbkJaTrJGjMwjYFNseyPYfL8yT3ais/Zvqzr+tJbRt8/+AeA/wDCqLvSfC+gjTr+G88RaHrN34jie6Qw2l3eXRuzcxsF3vFEwvrhUIMjRfumbztjLJf0Xw/4s8XeMfDOpeLdP0bQrfw/fNf2dvoupy373Nw8E1tmR5LaARxpHcS/KFYuzIdyCMrL7fRR7PzE8Umrcv4/8AKKKK2OAKKKKACiiigAooooAKKKKACiiigAooooAKKKKACiiigAooooAKKKKAP/2Q==)"
      ],
      "metadata": {
        "id": "9cM4xGAIHlqE"
      }
    },
    {
      "cell_type": "code",
      "source": [
        "# 참고\n",
        "# a, b = input().split()      공백을 기준으로 입력된 데이터를 읽어들여 a, b변수에 각각 저장한다.\n",
        "# input함수로 읽어들인 데이타는 문자형 데이터이므로 숫자는 정수형 데이터로 자료형 변환을 해줘야 함    예) a = int(a)\n",
        "a, b = input().split()\n",
        "a = int(a)\n",
        "b = int(b)\n",
        "if a > b:\n",
        "    print(a) \n",
        "else :\n",
        "    print(b)"
      ],
      "metadata": {
        "colab": {
          "base_uri": "https://localhost:8080/"
        },
        "id": "a4p83zP_JUrN",
        "outputId": "12ea8e07-fa5b-4985-b63c-fdc23038185a"
      },
      "execution_count": null,
      "outputs": [
        {
          "output_type": "stream",
          "name": "stdout",
          "text": [
            "123 456\n",
            "456\n"
          ]
        }
      ]
    },
    {
      "cell_type": "markdown",
      "source": [
        "\n",
        "\n",
        "---\n",
        "\n",
        "\n",
        "**문제2) 입력된 서로 다른 세 정수 a, b, c 중 가장 작은 값을 출력하는 프로그램을 작성해보자.**\n",
        "\n",
        "\n",
        "![화면 캡처 2022-08-17 232527.jpg](data:image/jpeg;base64,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)"
      ],
      "metadata": {
        "id": "cUW5PrtcLZhD"
      }
    },
    {
      "cell_type": "code",
      "source": [
        "# 중첩제어구조: 조건문 안에 또 다른 조건문이 있는 구조 \n",
        "# 예)     if a > b:\n",
        "#               if a > c:\n",
        "#                   print(a)\n",
        "#               else :\n",
        "#                   print(c)\n",
        "\n",
        "a = int(a)  #변수 a에 저장되어있는 값을 정수로 바꾸어 다시 변수 a에 저장\n",
        "b = int(b)\n",
        "c = int(c)\n",
        "\n",
        "if a < b:\n",
        "    if a < c:\n",
        "        print(a)\n",
        "    else :\n",
        "        print(c)\n",
        "else :\n",
        "    if b < c:\n",
        "        print(b)\n",
        "    else:\n",
        "        print(c)"
      ],
      "metadata": {
        "colab": {
          "base_uri": "https://localhost:8080/"
        },
        "id": "FFb1go2xMQO7",
        "outputId": "7d1b25d4-0f79-41fc-924b-47287b01343b"
      },
      "execution_count": null,
      "outputs": [
        {
          "output_type": "stream",
          "name": "stdout",
          "text": [
            "10 9 8\n",
            "8\n"
          ]
        }
      ]
    },
    {
      "cell_type": "markdown",
      "source": [
        "---\n",
        "**문제3) 3개의 정수(a, b, c)가 입력되었을 때, 짝수만 출력해보자.**\n",
        "\n",
        "\n",
        "![화면 캡처 2022-08-17 235325.jpg](data:image/jpeg;base64,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)\n",
        "\n"
      ],
      "metadata": {
        "id": "_E6qyFsYKrpb"
      }
    },
    {
      "cell_type": "code",
      "source": [
        "a, b, c = input().split()\n",
        "\n",
        "a=int(a)\n",
        "b=int(b)\n",
        "c=int(c)\n",
        "\n",
        "if a%2==0:\n",
        "    print(a)\n",
        "    \n",
        "if b%2==0:\n",
        "    print(b)\n",
        "    \n",
        "if c%2==0:\n",
        "    print(c)\n"
      ],
      "metadata": {
        "id": "N-Or3ltgTKHY"
      },
      "execution_count": null,
      "outputs": []
    },
    {
      "cell_type": "markdown",
      "source": [
        "**문제4) 월을 의미하는 1개의 정수가 입력될 때(1~12) 계절 이름을 출력되도록 해보자.**\n",
        "\n",
        "* 12, 1, 2 : winter\n",
        "* 3, 4, 5 : spring\n",
        "* 6, 7, 8 : summer\n",
        "* 9, 10, 11 : fall\n",
        "\n",
        "\n",
        "\n",
        "![화면 캡처 2022-08-19 004829.jpg](data:image/jpeg;base64,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)\n",
        "\n",
        "\n",
        "\n",
        "\n"
      ],
      "metadata": {
        "id": "jYnItBUEoEsn"
      }
    },
    {
      "cell_type": "code",
      "source": [
        "a=int(input())\n",
        "if a//3==1:\n",
        "    print(\"spring\")\n",
        "elif a//3==2:\n",
        "    print(\"summer\")\n",
        "elif a//3==3:\n",
        "    print(\"fall\")\n",
        "else:\n",
        "    print(\"winter\")"
      ],
      "metadata": {
        "id": "QDsZitqtq-MG"
      },
      "execution_count": null,
      "outputs": []
    }
  ]
}