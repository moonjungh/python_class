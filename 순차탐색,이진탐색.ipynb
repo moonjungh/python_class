{
  "nbformat": 4,
  "nbformat_minor": 0,
  "metadata": {
    "colab": {
      "provenance": [],
      "authorship_tag": "ABX9TyNsFxcrq/o395vnHOZEjsj5",
      "include_colab_link": true
    },
    "kernelspec": {
      "name": "python3",
      "display_name": "Python 3"
    },
    "language_info": {
      "name": "python"
    }
  },
  "cells": [
    {
      "cell_type": "markdown",
      "metadata": {
        "id": "view-in-github",
        "colab_type": "text"
      },
      "source": [
        "<a href=\"https://colab.research.google.com/github/moonjungh/python_class/blob/main/%EC%88%9C%EC%B0%A8%ED%83%90%EC%83%89%2C%EC%9D%B4%EC%A7%84%ED%83%90%EC%83%89.ipynb\" target=\"_parent\"><img src=\"https://colab.research.google.com/assets/colab-badge.svg\" alt=\"Open In Colab\"/></a>"
      ]
    },
    {
      "cell_type": "markdown",
      "source": [
        "▶ 순차탐색\n",
        "- 데이터의 처음부터 마지막까지 하나씩 검사하는 방법\n",
        "- 알고리즘은 단순하지만 자료의 개수가 많아지면 탐색 시간도 늘어난다.\n",
        "- 목적의 자료 위치에 따라 탐색 시간이 달라진다."
      ],
      "metadata": {
        "id": "9A8rnjE5ckUq"
      }
    },
    {
      "cell_type": "markdown",
      "source": [
        "![image.png](data:image/png;base64,iVBORw0KGgoAAAANSUhEUgAAA30AAAB2CAYAAAB8pfrnAAAAAXNSR0IArs4c6QAAAARnQU1BAACxjwv8YQUAAAAJcEhZcwAAEnQAABJ0Ad5mH3gAABV+SURBVHhe7d1PjBzVncDx34TgCSCGrOyJWbDoAUdkSGwRKYcc7CgDQqItS4C0SD4lB3vEIkTEZcZWpDgHOETYvqAgRFDPHJKTJVYCIoSREDNR7AOHlWIZYi+KoSdrB8zYShgL0Jhke9+relX1qruqu7q6pqt59f1ILfeUx4ryeP9+78+vxlqKAAAAAACc9DXzJwAAAADAQQR9AAAAAOAwgj4AAAAAcBhBHwAAAAA4jKAPAAAAABxG0AcAAAAADiPoAwAAAACHEfQBAAAAgMMI+gAAAADAYQR9AAAAAOAwgj4AAAAAcBhBHwAAAAA4jKAPAAAAABxG0AcAAAAADiPoAwAAAACHEfQBAAAAgMMI+gAAAADAYQR9AAAAAOAwgj4AAAAAcBhBHwAAAAA4jKAPAAAAABxG0AcAAAAADiPoAwAAAACHEfQBAAAAgMMI+mRFFvaMydiY/dkjCyvmr9G35XlTjnsWVOmibysLsidWH8dkftn8HbJbno+VofehThZiZWGPV5576CizSWjTHR/qZvGCPoCyzS6p30z6MChlFvSX9ofiK1hSH0shd6h20Od1blMyu2NJWq1W+Gk2RGanmND0zw+g7ztmfkTfvIB5alZ2LEX1saUq5Lv3qedMXDIyCzmqItYbzVjbXtoxK1MMuINRg+vjsyfMD+hHe32Mfd44IDXzeyiC6gee1YPRnCxRttnNHE2un8Fnac78Inpblnk13kzN7pCltjI8psd0BqJCBPMmsftXNW+qH7tPzfHn1X8FhFThVNRSS3VdLTUKt5rmia3ZqLd08cyploosTHl6Zda9bJGsa51rNlp19Xdq0mgeINXSXJe222w16tTNQaj5ile++kN9zIj2O3RBf0qZF8n0n6n9K2x+X1lvJVVB5pgFMeN9Yjs3/a5QyKHq7vQtvy7eGuCh5BXA2gOPiqoscux11giyWJ6/T5VnXVS7k6Mz5iH6sCzP692TekOeTCq/2gPyqKqQJ15+i92+XsxKdXI9rMkDfkHKWxRk/5bn2cnHV4DpT2VODh1gj68wK2/Jy7pY08YpWJbldX+SKUlVsHbgkKqdzDEHE+3mJ7bz2gE55Bcyu31GZYO+lfPvmm8pattlh/7z3fNMsjOYOaq31N9I7NyQxYwc1UcSeh1DOnFOPjRfMYgTco6C7FMwwNalsdTwFsWAUeQvQqqp4NJR1bOiKCtvvax6TtUDPPoAx2V7WTkvPWaZPuaYA/hQznkVclru9B90uHPa274RYmsfiVyAr4JwhTW9c0M2H/qjhExTkH1ZWXhc/M2TQ3KAssOoWlkQf22C3ahisXval2DjoJcd2wmgNxzjfYCgD/gKWH5+1lthZYAYUHA8sf6oPEBB9iGa8C1xfnsgYXZjMsxtiKCvTLu6gZzMlRiZ28vuaSYzstc7Wvhscjb44IrRXkozvzvF28jrcgLKX+TdIdvpDDwEfcCoC+9RMeHOxU7lrAuy3pAm2fz6wnG5YpyYnZLX95rsct5nSebIMFcc686plx0xaPdkPh7YsndBrS4Ntk8zmznalEb9hMxOtbVvnTleV9S5JXIgDKQmB/xLe/JsUmQd7PqzUBEi6ANGmQ5YzCyGCXdBuBfZn3B3lONyg6o3mm2TvBk5qlOLq0nLfez4DSi4c5rghH5VC+/fzS08MssJif6YxGG6fQcLEMHiIwF0MWaOin6LiF5Qi3Wheu40ZXb92U0NEfQBI2tZ5k2nxYrgAGoH5I1gZ8V7x5QegNlZycZK3vIiu6O5mTr4RmKGOT8zLxnmBrT8vH/nVJmz33OqPl6zVz3p7OPs+OVBApd89FHuqeBYvFUf/XFI7wDyztgieIkEVZnGdveDuROLlTEEfcBIUpPtPf6ROu84IhFfMWaOSrNBNq+sYslbmO1tkJps91NFy3kiktz844d+wNfeXepJoT/P5lUt/VuRt7wsYiRw6Uu4O6rG71bbKR39WiF/JUKOPctCRCHMq5riCz0sVrYj6ANG0PL8lFm1npMl7p8VqubPsOVdZtg9kLwFXxUr4r+FaU7STnLNeFk1eFVL34IdVO5F9SXYHU1NKDTzpHjrjyxEFC+4ksBiZQeCPmDErCzsMckI6tJoco+vcHdOq5JVYy2zv66C5C31xpPUQTiDxZ7+kMBlowQ7/CiWdSWBOtuhskFfsNqfKnixJinyMUzL8+YOgMjcEi+73xAfnvPvp/Dinkz0BfnwnkTbfYng7/aQIWMAwS4VacXzCybQ6ce2g+DlUTKRZEcCl9x6zjFDtPtCmZ3peuNF5k8JqrvTN7NX9GGPtPPU4dY8WX8wLFamzs4sf8huWeZTM/UFq4DcT+nFuxxv3ZGIfbyMk3491T8nJihBRLfttORB4SSFHdVBzDzp10mdzKE9OYZOqOEnTCR46UfPI4pIF8wx01YhgoCaY7MFUmO/f66T8T2NGrCra2mupYtAjbatpnmkNRt177ma0Jgn6M9SS3V2HeWKbkyZ6c/cknmGPJbmTDmqT7wom61GPek5+tZstNQEmz4yo6hO1luxIjPlSF9ZjGDsTv7MqV4W2QX9JeWWW1r7Dp5TtoVi7t5bte/0edl+mtIQ/Q6f6OjS1OwOL70uq9cohfeyZusoXezDu6Z6CXaodPauWArnsSnV0nUmtc7sfsBG8utk8KJmq05OzYro3VKSNRWiduCNcBc6Zm5JlT/3o/sRZO5lB3oA3qtaOueYYbunThYnuBpTb8iLzN1TjenIz3wHAAAAADiG7J0AAAAA4DCCPgAAAABwGEEfAAAAADiMoA8AAAAAHEbQBwAAAAAOI+gDAAAAAIcR9AEAAACAwwj6AAAAAMBhBH0AAAAA4DCCPgAAAABwGEEfAAAAADiMoA8AAAAAHDbWUsz3odH/kx9dviZrn//LPEFed932DfnfT9bly38O/T+jU75+3ZjUbv2GnL/4hXmCvCZuvE5uuuE6+ejKNfMEeW255Xqvv7yy9k/zBHndsXVcVv/+pXxx7f/ME+T1nTtulP/56+fmJ+R1w6avyeS/XS9/vbRuniCvzRNfl7GxMbn86ZfmCfL6982b5LMv/sUcvQDfueMGr16OitKCvsXffySnTn9qniCvIz/7thz53Ypc/gcd3SC2fPN6OfiTmhz89V/ME+S1695bZLp2kyy89jfzBHk9/ONJ789X/7Dq/Yn8Dv60Jq+pcjy3QrAyqMXD98j+Z86an5DXdO1GeUi18SO/XTFPkBd9ZXEOPHSb6ic/Y45egIVfTI9U0MfxTgAAAABwGEEfAAAAADiMoA8AAAAAHEbQBwAAAAAOI+gDAAAAAIcR9AEAAACAwwj6AAAAAMBhBH0AAAAA4LDqvpx95zZZfORm//v7F2X/8TX/e5Ktk/Krx7bIVvOjp9e/GZKyX84+df92+eWuTeYn3+lXzspzZ8wPPU3IU4dvl3vVt0unPpCfv73uPx6y8l/OPi77nrhLHtxsftSuXJanX1iVpvmxw4jWy9F4OXtUr0SuyuIzF+Sk9z3Z7n33yP67zQ+e3v9mGMp/4bBdjkZKHUvqCzqVV67lvJw9oV0nCcs04+8rZfaXw385e0I9TBGOP/YY31V5dXKkXs6eeU6UY6waglL6yqQxONE1efOl83L8kvnR6Bx3kn9v2Mp9Ofvg9Ssai8ofx3k5+wjQFSLbYOA3ysWkRn337Wrg2y77erd2R+lB+J7ESd69j6gy2zdhfupu975sA7nT9GB7OGGit3mL/DKljlEvu9ADccYJov+77QOvdrPsV8+f2ml+rCCvjiWVI3UMcIyaaP/IzIn0BDst4MsxViFB6rizSR58LPv8yTlF1C9Vtv/Zc/Gxuiq205eyippl5dr+HXt1p+QVrrJ2+qIVqvjKlF1mPVei7XJUKrnTFysDe1Uqfadq1OtlmTt9sbIJpa322WVs12O7nyh35bWsnb7YCnTGOhaV/WisVrcrfaevgDZp1+/+TlQUa/g7fd2ljUfprLZfYl85Kjt9mepVjrFqmMo/FdHOHkfSyiteX+1+t8z2XcpOX0H1KzZ2lVgfA+z0lWjq/m1hwHfp1GU57X9NMS4/nDaTRz0o2EHhpVX5+StX/e+bt8jDVdsNUI1zb9gxxQfY5tsX5M0r/vet0xMy5X9NoDrE/wgaeHXtngnKQHf+due0Js+9dFn8or1ZfhDWMeplKlUvwxU+VTZvvu9/TTN1/6QZSNrr8bocf+Gi6R82yfe/N+59q45xubD8gdeO9UJMbEFM1bHfnLrmf988IT+segMeqnjbf7WkCeHomZAfhAsUq9kWG3ZORG3/j+Ut2o6GCXk46Dffv5gaaPQ/VlXc1gn5fjjfXI3Ky657bfOnk8f9fle790eTXeZP7imkfu3cZgV8SFKpoK/59nnZ/9JFWXzpbIYdpXG5NWiw59Y6B4VP1k0lFLl1smKTwm+Nh43z40+8L5Z1uWg6Ldk8LtvM1w47Jzt3XCtHT67PyqIOTpImK5fW5WPzNapj1MtUOuh95gNZfEUFKi+sykXzONV7F+RpHcAkTqBV2QeLF1UrR/X/vanq3vEXkvvJ5mo5u/GVZ08ik9p+VdmT6D9bCxRd7P5ucL3jqvx3xYPnaPFLTbaX08ovz1hVbVPfmwjnSX96L+ozp8LySap7GedPzimifo1HR5SRqnp3+i6tycn2CoX+hIHFJrn1W96XZFfW5YL5GjchT5k7lb13XF2mJ9d6de9s4vFi2aoCPPP1YybaGa3LyTPZykoHNt5CUOLRLiu4puxT9Gj/KFS0En5VXi/pGPzosSZ6WXc/rZMqsR2YKrJPR3TdJWWs6o+9e5px97nSBq9f0Um+q/JmcBoFHXhlQyprpT/pmGK421XBTk4Fzn8KjiA8Er9cq+8GBNvraavR4cqiGqR/w+QllT3Ji1YEqZfDYK9+26u0lafvXYRJsNJ2SUwygsPWp6qJCWxeMoJ4uWRPFGQfYVyrdqBiy7H7mbYDU0X2GLOYNNnOKHmsqrAuu8/RSYmko4rjcrupz+mL5tXTu35FQfbpVy7IO943JCHoS7Uu75wL7q6owdqetGSa+LhsXY7/0dwda5vgRUk0UlajrZVF7lKkiwXPsdVo6uWG27ktqses0irjsu8J08bDi/bt9y568DJ+bpPd5kf4smY6jt0/zXiEsQqiyWDWAM7agbmyJu9UuW3H7j/52Yr9cby/dpo+VlWVfcwwYRw+sxaebmpfNN+9L0o0yBFuX5b6FWaB565zTwR9XeijX94ZY82btLRPfCrcyZ1ZDS8cJ0kuF9UZBslbaJzp7CM3Cbuh1MuNFB091gP2IKvflabq7dPPnPUyPO4PkgvpiWXFd/y8xDimXOw23H3HjwQuyUjgkp8dmLTzA8Bf3Z/hbl6PsaqS0hK4hOzEJPFF8ygI5wi3J0v9shYv2EjojaCvB++McThpaVfVhqlX/u2U9mZypz5eYgxl6667OgeNMHmL+jf/ReNMpoIOO21xSipx6uVG0PXaTqXdx06W0/ykLn4bj7KaPvhY2o5AW709YxLmaHdPVvddXu9fjCXGyZypjwQuyUjgkp9Vp2ILNGH71mP4th5tNdtYVTWZjg+bpGNpC+cs2mpZ6pe1eNEl8ywiBH1ZqElLENTYE+3KNkwr82bnKxuiXaituyatSaG1g8KRuRR9Bh3Uy0LZR2va6zUC6emzvaQ4Xn3srLfN8B5L1ZK/WAFzx65xtkx99n0WFnMC1mQv6+7nVhK4BKLApH0yHd+FSn9dDQtkyfpJ4GIvptkBIO08a/2Kkreo30nNPAsbQV9frIGmwg2ze8phkZN/jo5zBZPCbGmhqy1/0EG9HFT83sAHrBh2kyc9u/UqEUQurPbKMkcCl0QkcBmAfVw4IVmIlagt7XU1LJClyLH77LEW0lm0zVq/yJCaB0FfP2I7XNVd2do2aRpamo4JntU4286wLx4OVnP0zuBd3rPsGe3cMVDQQb0cTCxxS/wIHgpiZZVFpGdfmncS6bj+Azg70Kl4ApcBsUCWLt/x4fiuddXvRWatX3Zyq1huA/WJEgqaBEVPVOtF990Q9GVmHU/MepzEUdHq9LjcnjCTswfkzpe3o8NAQQf1ciB2xlN9t4XELT5dLmkLMFYgEn8tiKqLKf+m0nepVPtOzojYaxcvPhmkbQdyrPDbC2OVT/bQ41ixvYva/tofFsjS5Tw+HB1RpG5SvzYeQV9GsZTZFW+YzffWrMxTbZMZu9GGK6pr8lxw96zjE10cDzLbVWrlcMCgg3o5iCwXxStI10lTLvqVArGETHZ9jQVwOuDzd+07/o3qE4KV28odUdQBn1deesW5PT17dMohcRePBC7JSOAysJPL0b3c/bFdkHifGLsqMOBY5bp8x4ftV4hUfGGnz/oV3SHv/ISJw/S4rp8xtofGWor5PjT6f3Lx9x/JqdOfmidliCYpekWh85K9rZ/fHa4jP/u2HPndilz+x5fmyZCEk5k0urFlOWoYla0O+spa2dnyzevl4E9qcvDXfzFPhmP3PjtNcxeJ9W406+Wue2+R6dpNsvDa38yTckRlm1wX9TGS6BhIF3oAKmnQePjHk96fr/5h1ftzeKy6lUhfrm+/a9Hr32TtEzbGwZ/W5DVVjudWPjdPhqRXX5nSdnvV3zLpI1R6cjV8OsGDue+TtV1aixhljjFJpms3ykOqjR/57Yp5Mjy9+r/Tr8QXYAcbqzZeeX2llm8sjv4bJPWn5Tnw0G2qn/xsqHP0IutXVK7l950Lv5iWsbEx81P52OnrSQ8ywUSGJCQhL3Nkcsphf8dutCYp7qFeYiOZ3fmk14LoQfeZpAlK+r+pdJ9gsuyG7+UL6YmeKq+kCYwKVIKjYiRwsdgJLzLufvb/Avdq8HdKopM2IR1Mq/rKXb3sYidust69tU9FkYgEQ1LhnT43lLbT55iydvpcNCo7fS4od/XaLaXt9DmovJ0+t5S50+ca+srilLHT5yp2+gAAAAAAQ0PQBwAAAAAOI+gDAAAAAIcR9AEAAACAwwj6AAAAAMBhBH0AAAAA4DCCPgAAAABwGEEfAAAAADistJezj9LLCgEAAADAVez0AQAAAIDDCPoAAAAAwGGlHe8EAAAAAFeN0nW2UoI+AAAAAMBwcLwTAAAAABxG0AcAAAAADiPoAwAAAACHEfQBAAAAgMMI+gAAAADAYQR9AAAAAOAwgj4AAAAAcBhBHwAAAAA4jKAPAAAAABxG0AcAAAAADiPoAwAAAACHEfQBAAAAgMMI+gAAAADAYQR9AAAAAOAwgj4AAAAAcBhBHwAAAAA4jKAPAAAAABxG0AcAAAAADiPoAwAAAACHEfQBAAAAgMMI+gAAAADAYQR9AAAAAOAskf8Hy8LIgQ0HG8kAAAAASUVORK5CYII=)"
      ],
      "metadata": {
        "id": "V03yFZ6TqHYI"
      }
    },
    {
      "cell_type": "code",
      "execution_count": 1,
      "metadata": {
        "colab": {
          "base_uri": "https://localhost:8080/"
        },
        "id": "r7Jd5MwDHW5A",
        "outputId": "3206f664-e5ab-4835-f9a7-957abeade8b4"
      },
      "outputs": [
        {
          "output_type": "stream",
          "name": "stdout",
          "text": [
            "찾을 번호:29\n",
            "29 는 3 번째 위치에 있습니다.\n"
          ]
        }
      ],
      "source": [
        "num_list = [19,84,29,12,35,57,77,62,79,24]\n",
        "i = 0\n",
        "check = 0\n",
        "find_data = int(input(\"찾을 번호:\"))\n",
        "for i in range(0,len(num_list)):\n",
        "    if num_list[i] == find_data:\n",
        "        print(find_data,\"는\", i+1,'번째 위치에 있습니다.')\n",
        "        check = 1\n",
        "if check == 0:\n",
        "    print(find_data,\"는 리스트에 없습니다.\")\n",
        "\n"
      ]
    },
    {
      "cell_type": "markdown",
      "source": [
        "▶ 이진탐색\n",
        "- 정렬된 자료의 가운데 값을 조사하여 찾고자 하는 자료가 가운데 값의 왼쪽 또는 오른쪽 부분에 있는지를 알아내어 탐색의 범위를 반으로 줄이며 검사하는 방법\n",
        "- 자료의 개수가 많아져도 탐색 시간이 많이 늘어나지 않는다.\n",
        "- 자료의 평균 비교 횟수가 적어 탐색 속도가 빠르다.\n",
        "- 자료가 반드시 정렬되어 있어야 한다."
      ],
      "metadata": {
        "id": "keuR-66ec5cV"
      }
    },
    {
      "cell_type": "markdown",
      "source": [
        "![image.png](data:image/png;base64,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)"
      ],
      "metadata": {
        "id": "CNmA97vNqnHx"
      }
    },
    {
      "cell_type": "code",
      "source": [
        "num_list = [12,19,24,29,35,57,62,77,79,84]\n",
        "\n",
        "find_data = int(input(\"찾을 번호:\"))\n",
        "low = 0\n",
        "high = len(num_list)-1\n",
        "\n",
        "while low <= high:\n",
        "    mid = (low+high)//2\n",
        "    if find_data == num_list[mid]:\n",
        "        print(mid,\"에서 탐색 성공\")\n",
        "        break\n",
        "    elif find_data < num_list[mid]:\n",
        "        high = mid-1\n",
        "    else:\n",
        "        low = mid+1\n",
        "\n",
        "if low > high:\n",
        "    print(\"탐색 실패\")"
      ],
      "metadata": {
        "id": "MT0Lzv74LLDB",
        "colab": {
          "base_uri": "https://localhost:8080/"
        },
        "outputId": "3b12f6cf-5360-4afd-9054-a8adadf87185"
      },
      "execution_count": 5,
      "outputs": [
        {
          "output_type": "stream",
          "name": "stdout",
          "text": [
            "찾을 번호:35\n",
            "4 에서 탐색 성공\n"
          ]
        }
      ]
    },
    {
      "cell_type": "code",
      "source": [],
      "metadata": {
        "id": "OYQkYWrspaEL"
      },
      "execution_count": null,
      "outputs": []
    }
  ]
}