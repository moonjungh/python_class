{
  "nbformat": 4,
  "nbformat_minor": 0,
  "metadata": {
    "colab": {
      "provenance": [],
      "collapsed_sections": [],
      "include_colab_link": true
    },
    "kernelspec": {
      "name": "python3",
      "display_name": "Python 3"
    }
  },
  "cells": [
    {
      "cell_type": "markdown",
      "metadata": {
        "id": "view-in-github",
        "colab_type": "text"
      },
      "source": [
        "<a href=\"https://colab.research.google.com/github/moonjungh/python_class/blob/main/6%EC%9E%A5_(%EC%8B%A4%EC%8A%B5%EC%9A%A9)_%EB%A6%AC%EC%8A%A4%ED%8A%B8.ipynb\" target=\"_parent\"><img src=\"https://colab.research.google.com/assets/colab-badge.svg\" alt=\"Open In Colab\"/></a>"
      ]
    },
    {
      "cell_type": "markdown",
      "metadata": {
        "id": "6n9IjADZt4Z5"
      },
      "source": [
        "#  1. 리스트\n",
        "\n",
        "```\n",
        "리스트 여러 데이터를 한 번에 묶어서 표현\n",
        "리스트이름 = [데이터1, 데이터2, ..., 데이터n]\n",
        "```\n",
        "\n",
        "> 실생활의 리스트 \n",
        "    \n",
        "<img src='https://github.com/teacher-jiejie/allinone_AI/blob/images/56_%EC%82%AC%EC%95%BC%ED%95%A0%20%EB%A6%AC%EC%8A%A4%ED%8A%B8.png?raw=true' width=150>\n",
        "\n",
        "</br>\n",
        "</br>\n",
        "\n",
        "> 파이썬의 리스트\n",
        "\n",
        "<img src='https://github.com/teacher-jiejie/allinone_AI/blob/images/6_%EB%A6%AC%EC%8A%A4%ED%8A%B8%EA%B0%9C%EB%85%90.png?raw=true' width=600>\n",
        "\n",
        "\n",
        "\n"
      ]
    },
    {
      "cell_type": "code",
      "metadata": {
        "id": "FAe8AhxFMRWQ"
      },
      "source": [
        "# 1월 지출부터 6월 지출까지 리스트로 만들기\n"
      ],
      "execution_count": null,
      "outputs": []
    },
    {
      "cell_type": "code",
      "metadata": {
        "id": "AfL3S1RbMRZb"
      },
      "source": [],
      "execution_count": null,
      "outputs": []
    },
    {
      "cell_type": "code",
      "metadata": {
        "id": "pletqKwvMRcq"
      },
      "source": [],
      "execution_count": null,
      "outputs": []
    },
    {
      "cell_type": "markdown",
      "metadata": {
        "id": "TKe3-L5lNYYN"
      },
      "source": [
        "### 리스트와 인덱스\n",
        "<img src ='https://github.com/teacher-jiejie/allinone_AI/blob/images/7_%EB%A6%AC%EC%8A%A4%ED%8A%B8%EC%9D%B8%EB%8D%B1%EC%8A%A4.png?raw=true' width =700>"
      ]
    },
    {
      "cell_type": "code",
      "metadata": {
        "id": "l97FX7QOMlYm"
      },
      "source": [
        "# 1월 지출은?\n"
      ],
      "execution_count": null,
      "outputs": []
    },
    {
      "cell_type": "code",
      "metadata": {
        "id": "XQJ_ouroMlaz"
      },
      "source": [
        "# 6월 지출은?\n"
      ],
      "execution_count": null,
      "outputs": []
    },
    {
      "cell_type": "code",
      "metadata": {
        "id": "70ooJdGDMlh4"
      },
      "source": [
        "# 3월 지출은?\n"
      ],
      "execution_count": null,
      "outputs": []
    },
    {
      "cell_type": "markdown",
      "metadata": {
        "id": "Er1EdCA3jfx3"
      },
      "source": [
        "알고보니 4월 지출이 10낮게 기록됐다. 4월 지출에 10을 더하시오"
      ]
    },
    {
      "cell_type": "code",
      "metadata": {
        "id": "tLt7P-A2Mlkq"
      },
      "source": [
        "\n"
      ],
      "execution_count": null,
      "outputs": []
    },
    {
      "cell_type": "markdown",
      "metadata": {
        "id": "BZTdPe8Bjk_p"
      },
      "source": [
        "5월 지출을 2로 나누시오"
      ]
    },
    {
      "cell_type": "code",
      "metadata": {
        "id": "UGAtSnXaNpy6"
      },
      "source": [
        "\n"
      ],
      "execution_count": null,
      "outputs": []
    },
    {
      "cell_type": "markdown",
      "metadata": {
        "id": "6GNtA_6rE1lY"
      },
      "source": [
        "### 마이너스 인덱스\n",
        "\n",
        "<img src = 'https://github.com/teacher-jiejie/allinone_AI/blob/images/8_%EB%A6%AC%EC%8A%A4%ED%8A%B8%20%EB%A7%88%EC%9D%B4%EB%84%88%EC%8A%A4%EC%9D%B8%EB%8D%B1%EC%8A%A4.png?raw=true' width=500>"
      ]
    },
    {
      "cell_type": "code",
      "metadata": {
        "id": "VYSsCWAuMlVF"
      },
      "source": [
        "\n"
      ],
      "execution_count": null,
      "outputs": []
    },
    {
      "cell_type": "code",
      "metadata": {
        "id": "0Q691rtv9-bt"
      },
      "source": [
        "\n"
      ],
      "execution_count": null,
      "outputs": []
    },
    {
      "cell_type": "markdown",
      "metadata": {
        "id": "mcMUi8x-OEod"
      },
      "source": [
        "#  2.  리스트의 다양한 기능\n",
        "\n",
        "### 리스트 길이 확인 \n",
        "> len(리스트이름)           \n",
        "\n"
      ]
    },
    {
      "cell_type": "code",
      "metadata": {
        "id": "PVBaOrEONp4H"
      },
      "source": [],
      "execution_count": null,
      "outputs": []
    },
    {
      "cell_type": "markdown",
      "metadata": {
        "id": "E_Y7AFD0TFIB"
      },
      "source": [
        "### 리스트에 데이터 추가하기\n",
        "\n",
        "> 리스트이름.append(데이터)  \n",
        "\n",
        "\n",
        "\n",
        "```\n",
        "food = ['피자','치킨','떡볶이','스테이크','파스타']\n",
        "```\n",
        "\n",
        "\n"
      ]
    },
    {
      "cell_type": "code",
      "metadata": {
        "id": "PYw7ooYGNp65"
      },
      "source": [
        "\n",
        "# 감자칩 추가\n"
      ],
      "execution_count": null,
      "outputs": []
    },
    {
      "cell_type": "code",
      "metadata": {
        "id": "I7i_vU_D-rGP"
      },
      "source": [
        "# 카레 추가\n"
      ],
      "execution_count": null,
      "outputs": []
    },
    {
      "cell_type": "markdown",
      "metadata": {
        "id": "IGU9mv18M_PG"
      },
      "source": [
        "### 빈 리스트 만들고 데이터 추가하기"
      ]
    },
    {
      "cell_type": "code",
      "metadata": {
        "id": "GYzqWARONDK-"
      },
      "source": [
        "# 해야할 일을 저장하는 리스트 to_do\n"
      ],
      "execution_count": null,
      "outputs": []
    },
    {
      "cell_type": "code",
      "metadata": {
        "id": "StowkhzONDOz"
      },
      "source": [
        "# 해야할 일을 입력받아 to_do에 저장하기\n"
      ],
      "execution_count": null,
      "outputs": []
    },
    {
      "cell_type": "code",
      "metadata": {
        "id": "nUvvSu-_NDsg"
      },
      "source": [],
      "execution_count": null,
      "outputs": []
    },
    {
      "cell_type": "markdown",
      "metadata": {
        "id": "VcinMKvjPO_n"
      },
      "source": [
        "### 리스트 슬라이싱\n",
        "\n",
        "\n",
        "> 리스트[시작숫자 : 종료숫자]\n",
        "\n",
        "<img src = 'https://github.com/teacher-jiejie/allinone_AI/blob/images/9_%EB%A6%AC%EC%8A%A4%ED%8A%B8%EC%8A%AC%EB%9D%BC%EC%9D%B4%EC%8B%B1.png?raw=true' width=500>\n",
        "\n",
        "\n",
        "종료숫자-1 까지 잘라내는 것\n",
        "\n",
        "```\n",
        "abc[2:5]       # abc[2]~abc[4]까지 슬라이싱\n",
        "abc[4:9]       # abc[4]~abc[8]까지 슬라이싱\n",
        "```\n",
        "\n",
        "\n",
        "\n",
        "\n",
        "```\n",
        "food = ['피자','치킨','떡볶이','스테이크','파스타']\n",
        "```\n",
        "\n",
        "\n",
        "\n",
        "\n",
        "\n",
        "\n"
      ]
    },
    {
      "cell_type": "code",
      "metadata": {
        "id": "skKBPcWnO31V"
      },
      "source": [],
      "execution_count": null,
      "outputs": []
    },
    {
      "cell_type": "code",
      "metadata": {
        "id": "5T90E9u2PzQl"
      },
      "source": [
        "# 떡볶이, 스테이크만 골라내기\n"
      ],
      "execution_count": null,
      "outputs": []
    },
    {
      "cell_type": "code",
      "metadata": {
        "id": "u8_ZjYbVPzXv"
      },
      "source": [
        "# 처음부터 스테이크까지 골라내기\n"
      ],
      "execution_count": null,
      "outputs": []
    },
    {
      "cell_type": "code",
      "metadata": {
        "id": "DGT1u07APzWH"
      },
      "source": [
        "# 뒤에서 n개 데이터 슬라이싱,   슬라이싱 한 결과도 리스트\n"
      ],
      "execution_count": null,
      "outputs": []
    },
    {
      "cell_type": "markdown",
      "metadata": {
        "id": "2GzeP7MRQ1BC"
      },
      "source": [
        "### 문자열 슬라이싱\n",
        "* 문자열을 슬라이싱 한 결과도 문자열\n",
        "![화면 캡처 2022-08-28 090433.jpg](data:image/jpeg;base64,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)"
      ]
    },
    {
      "cell_type": "code",
      "metadata": {
        "id": "trbsdMEzQ38P"
      },
      "source": [],
      "execution_count": null,
      "outputs": []
    },
    {
      "cell_type": "code",
      "metadata": {
        "id": "uJp-ceSnQ3_b"
      },
      "source": [],
      "execution_count": null,
      "outputs": []
    },
    {
      "cell_type": "code",
      "metadata": {
        "id": "cUQ_6ORgQ4BE"
      },
      "source": [],
      "execution_count": null,
      "outputs": []
    },
    {
      "cell_type": "code",
      "metadata": {
        "id": "y1Wh1NQqDTc2"
      },
      "source": [],
      "execution_count": null,
      "outputs": []
    },
    {
      "cell_type": "markdown",
      "metadata": {
        "id": "Teyp7VgNO0Rt"
      },
      "source": [
        "### split()으로 문자열 슬라이싱\n",
        ": 인덱스로 슬라이싱 하는게 번거로우므로 split 함수 사용"
      ]
    },
    {
      "cell_type": "code",
      "metadata": {
        "id": "EsKzoWaCO4u5"
      },
      "source": [],
      "execution_count": null,
      "outputs": []
    },
    {
      "cell_type": "code",
      "metadata": {
        "id": "a7DAbSNRO4yY"
      },
      "source": [
        "# split(): 괄호안에 아무것도 넣지 않으면 공백을 기준으로 데이터를 split(쪼갠다)\n"
      ],
      "execution_count": null,
      "outputs": []
    },
    {
      "cell_type": "code",
      "metadata": {
        "id": "6hR9rP6vO41D"
      },
      "source": [
        "# 0을 기준으로 split\n"
      ],
      "execution_count": null,
      "outputs": []
    },
    {
      "cell_type": "code",
      "metadata": {
        "id": "WLiSb170PR-a"
      },
      "source": [
        "# -을 기준으로 split\n"
      ],
      "execution_count": null,
      "outputs": []
    },
    {
      "cell_type": "code",
      "metadata": {
        "id": "ydZcHgZJPSBf"
      },
      "source": [
        "# split의 결과는 리스트이므로 인덱스 사용 가능\n"
      ],
      "execution_count": null,
      "outputs": []
    },
    {
      "cell_type": "code",
      "metadata": {
        "id": "OsKtLXxXPjbx"
      },
      "source": [
        "# split의 결과는 문자이므로 숫자로 변환해야 함\n"
      ],
      "execution_count": null,
      "outputs": []
    },
    {
      "cell_type": "markdown",
      "metadata": {
        "id": "ci8lL5bpkDqH"
      },
      "source": [
        "\n",
        "실습\n",
        "```\n",
        "date = '2021-01-25'\n",
        "```\n",
        "\n",
        "위 date에서 월(month)만 골라내 숫자형태로 변수 mon에 저장하시오."
      ]
    },
    {
      "cell_type": "code",
      "metadata": {
        "id": "oi4InWd-R5hK"
      },
      "source": [
        "\n",
        "# 월만 골라내기\n"
      ],
      "execution_count": null,
      "outputs": []
    },
    {
      "cell_type": "markdown",
      "metadata": {
        "id": "1SNURQRPkLjp"
      },
      "source": [
        "위 date에서 일(day)만 숫자 형태로 골라내 변수에 저장하시오."
      ]
    },
    {
      "cell_type": "code",
      "metadata": {
        "id": "EV6_JAjDR5lz"
      },
      "source": [
        "# 일만 골라내기\n"
      ],
      "execution_count": null,
      "outputs": []
    },
    {
      "cell_type": "markdown",
      "metadata": {
        "id": "g9zPvPI_L77Z"
      },
      "source": [
        "# 3. 리스트와 제어구조"
      ]
    },
    {
      "cell_type": "markdown",
      "metadata": {
        "id": "rSZ692PtQhAL"
      },
      "source": [
        "### 1) for a in data 에서 data에 리스트를 넣을 때 "
      ]
    },
    {
      "cell_type": "markdown",
      "metadata": {
        "id": "FAq15VaRk9Ai"
      },
      "source": [
        "다음 spend의 모든 원소를 차례대로 출력하시오 \n",
        "\n",
        "\n",
        "```\n",
        "spend = [43, 12, 65, 67, 23, 12]\n",
        "```\n",
        "\n"
      ]
    },
    {
      "cell_type": "code",
      "metadata": {
        "id": "F2EVpvIMt4_R"
      },
      "source": [
        "# spending 변수에 저장된 리스트의 값을 하나씩 출력하세요.\n",
        "\n"
      ],
      "execution_count": null,
      "outputs": []
    },
    {
      "cell_type": "code",
      "metadata": {
        "id": "w8oyLMGlpklS"
      },
      "source": [
        "# 50이상 쓴 금액을 출력하시오\n"
      ],
      "execution_count": null,
      "outputs": []
    },
    {
      "cell_type": "markdown",
      "metadata": {
        "id": "qRSeABPrINGK"
      },
      "source": [
        "\n",
        "\n",
        "### 2) for a in data 에서 data에 range()를 넣을 때\n"
      ]
    },
    {
      "cell_type": "code",
      "metadata": {
        "id": "XP9lM2GHt5B0"
      },
      "source": [
        "# 인덱스를 활용하고 싶을 때 range()\n"
      ],
      "execution_count": null,
      "outputs": []
    },
    {
      "cell_type": "code",
      "metadata": {
        "id": "draOPFNGIkAr"
      },
      "source": [
        "# 인덱스는 0부터 시작\n"
      ],
      "execution_count": null,
      "outputs": []
    },
    {
      "cell_type": "code",
      "metadata": {
        "id": "dx99LE7Xt5EO"
      },
      "source": [
        "# 리스트가 너무 길어서 숫자를 세기 힘든 경우: len() 활용하기\n"
      ],
      "execution_count": null,
      "outputs": []
    },
    {
      "cell_type": "code",
      "metadata": {
        "id": "YBNqt2c-t5Gk"
      },
      "source": [
        "# range()가 0부터 시작하면 생략 가능\n"
      ],
      "execution_count": null,
      "outputs": []
    },
    {
      "cell_type": "markdown",
      "metadata": {
        "id": "Mliij-AiZr4_"
      },
      "source": [
        "# 4. 이차원 리스트\n",
        "\n",
        "<img src ='https://github.com/teacher-jiejie/allinone_AI/blob/images/14_%EC%9D%B4%EC%B0%A8%EC%9B%90%20%EB%A6%AC%EC%8A%A4%ED%8A%B8.png?raw=true' width = 700>"
      ]
    },
    {
      "cell_type": "code",
      "metadata": {
        "id": "4acOxb9Dul8O"
      },
      "source": [],
      "execution_count": null,
      "outputs": []
    },
    {
      "cell_type": "code",
      "metadata": {
        "id": "BQ0u3IM-yUd_"
      },
      "source": [],
      "execution_count": null,
      "outputs": []
    },
    {
      "cell_type": "code",
      "metadata": {
        "id": "gyt8s3mtpiTF"
      },
      "source": [],
      "execution_count": null,
      "outputs": []
    },
    {
      "cell_type": "code",
      "metadata": {
        "id": "smaYOq_bpiY8"
      },
      "source": [],
      "execution_count": null,
      "outputs": []
    },
    {
      "cell_type": "markdown",
      "metadata": {
        "id": "IROs-Ha0yUj2"
      },
      "source": [
        "## 이차원 리스트의 인덱스\n",
        "\n",
        "<img src = 'https://github.com/teacher-jiejie/allinone_AI/blob/images/15_%EC%9D%B4%EC%B0%A8%EC%9B%90%20%EB%A6%AC%EC%8A%A4%ED%8A%B8%20%EC%9D%B8%EB%8D%B1%EC%8A%A4.png?raw=true' width = 700>"
      ]
    },
    {
      "cell_type": "code",
      "metadata": {
        "id": "1U_e8JPXul-I"
      },
      "source": [
        "# 1 출력하기\n"
      ],
      "execution_count": null,
      "outputs": []
    },
    {
      "cell_type": "markdown",
      "metadata": {
        "id": "-bcfTuieldf0"
      },
      "source": [
        "이차원 리스트 abc에서 인덱스를 활용해 다음 숫자를 출력하시오"
      ]
    },
    {
      "cell_type": "code",
      "metadata": {
        "id": "lhEJ64vTumAI"
      },
      "source": [
        "# 6 출력하기\n"
      ],
      "execution_count": null,
      "outputs": []
    },
    {
      "cell_type": "code",
      "metadata": {
        "id": "8dolImUrumCS"
      },
      "source": [
        "# 8 출력하기\n"
      ],
      "execution_count": null,
      "outputs": []
    },
    {
      "cell_type": "markdown",
      "metadata": {
        "id": "2YUUytTsftU5"
      },
      "source": [
        "## 반복문과 이차원 리스트"
      ]
    },
    {
      "cell_type": "code",
      "metadata": {
        "id": "vIwkSkIuyYwV"
      },
      "source": [],
      "execution_count": null,
      "outputs": []
    },
    {
      "cell_type": "markdown",
      "metadata": {
        "id": "-bbMjsKVyY4B"
      },
      "source": [
        "> 이차원리스트 반복 원리\n",
        "\n",
        "<img src = 'https://github.com/teacher-jiejie/allinone_AI/blob/images/16_%EC%9D%B4%EC%B0%A8%EC%9B%90%20%EB%A6%AC%EC%8A%A4%ED%8A%B8%20%EB%B0%98%EB%B3%B5%EA%B5%AC%EC%A1%B0.png?raw=true' width=800>"
      ]
    },
    {
      "cell_type": "code",
      "metadata": {
        "id": "t4LqJgCdyh03"
      },
      "source": [
        "# 모든 줄의 첫번째 데이터만 출력\n"
      ],
      "execution_count": null,
      "outputs": []
    },
    {
      "cell_type": "code",
      "metadata": {
        "id": "N3J7nAOrrTWs"
      },
      "source": [
        "# 모든 줄의 마지막 데이터(세번째 열)만 출력\n"
      ],
      "execution_count": null,
      "outputs": []
    },
    {
      "cell_type": "markdown",
      "metadata": {
        "id": "gKl6ITBVf4dN"
      },
      "source": [
        "# 5. 올림픽 데이터 "
      ]
    },
    {
      "cell_type": "markdown",
      "metadata": {
        "id": "bIBp6iFLMfqY"
      },
      "source": [
        "<img src= 'https://github.com/teacher-jiejie/allinone_AI/blob/images/17_%EC%98%AC%EB%A6%BC%ED%94%BD.png?raw=true' width=500>"
      ]
    },
    {
      "cell_type": "markdown",
      "metadata": {
        "id": "XEF7EOlBLJUl"
      },
      "source": [
        "\n",
        "\n",
        "```\n",
        "data =[\n",
        "       [1,'미국',46,37,38,121],\n",
        "       [2,'영국',27,23,17,67],\n",
        "       [3,'중국',26,18,26,70],\n",
        "       [4,'러시아',19,18,19,56],\n",
        "       [5,'독일',17,10,15,42],\n",
        "       [6,'일본',12,8,21,41],\n",
        "       [7,'프랑스',10,18,14,42],\n",
        "       [8,'대한민국',9,3,9,21] \n",
        "       ]\n",
        "```\n",
        "\n"
      ]
    },
    {
      "cell_type": "code",
      "metadata": {
        "id": "0VrPyd2vMfqZ"
      },
      "source": [],
      "execution_count": null,
      "outputs": []
    },
    {
      "cell_type": "code",
      "metadata": {
        "id": "G7IrajJ1Mfqa"
      },
      "source": [
        "# 순위권에 든 모든 국가를 출력하시오\n"
      ],
      "execution_count": null,
      "outputs": []
    },
    {
      "cell_type": "code",
      "metadata": {
        "id": "Eu7RUnssMfqb"
      },
      "source": [
        "# 금메달보다 은메달 개수가 많은 나라를 출력하시오\n"
      ],
      "execution_count": null,
      "outputs": []
    },
    {
      "cell_type": "code",
      "metadata": {
        "id": "1EbMZLoZMfqc"
      },
      "source": [
        "# 금메달보다 동메달 개수가 많은 나라를 출력하시오\n"
      ],
      "execution_count": null,
      "outputs": []
    },
    {
      "cell_type": "code",
      "metadata": {
        "id": "LtY4aNsQMfqd"
      },
      "source": [
        "# 모든 나라의 금메달 합을 구하시오\n"
      ],
      "execution_count": null,
      "outputs": []
    },
    {
      "cell_type": "code",
      "metadata": {
        "id": "S07712BhMfqd"
      },
      "source": [],
      "execution_count": null,
      "outputs": []
    }
  ]
}