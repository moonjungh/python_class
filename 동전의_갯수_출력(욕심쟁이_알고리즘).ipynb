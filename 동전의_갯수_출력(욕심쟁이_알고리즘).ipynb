{
  "nbformat": 4,
  "nbformat_minor": 0,
  "metadata": {
    "colab": {
      "provenance": [],
      "collapsed_sections": [],
      "authorship_tag": "ABX9TyP8Epck6qji6q/BEthHecyA",
      "include_colab_link": true
    },
    "kernelspec": {
      "name": "python3",
      "display_name": "Python 3"
    },
    "language_info": {
      "name": "python"
    }
  },
  "cells": [
    {
      "cell_type": "markdown",
      "metadata": {
        "id": "view-in-github",
        "colab_type": "text"
      },
      "source": [
        "<a href=\"https://colab.research.google.com/github/moonjungh/python_class/blob/main/%EB%8F%99%EC%A0%84%EC%9D%98_%EA%B0%AF%EC%88%98_%EC%B6%9C%EB%A0%A5(%EC%9A%95%EC%8B%AC%EC%9F%81%EC%9D%B4_%EC%95%8C%EA%B3%A0%EB%A6%AC%EC%A6%98).ipynb\" target=\"_parent\"><img src=\"https://colab.research.google.com/assets/colab-badge.svg\" alt=\"Open In Colab\"/></a>"
      ]
    },
    {
      "cell_type": "code",
      "execution_count": 2,
      "metadata": {
        "colab": {
          "base_uri": "https://localhost:8080/"
        },
        "id": "ouBj5UnitB5W",
        "outputId": "2d732395-531e-4896-b396-3943e8e7e223"
      },
      "outputs": [
        {
          "name": "stdout",
          "output_type": "stream",
          "text": [
            "거스름돈을 입력하세요(exit: -1):1260\n",
            "[2, 2, 1, 1]\n",
            "500원짜리 동전의 갯수는 2 개\n",
            "100원짜리 동전의 갯수는 2 개\n",
            "50원짜리 동전의 갯수는 1 개\n",
            "10원짜리 동전의 갯수는 1 개\n",
            "거스름돈을 입력하세요(exit: -1):-1\n"
          ]
        }
      ],
      "source": [
        "n = 0\n",
        "coin_list = []\n",
        "while n != -1 :\n",
        "    n = int(input(\"거스름돈을 입력하세요(exit: -1):\"))\n",
        "    if n == -1:\n",
        "        break\n",
        "    coin_list.append(n//500)\n",
        "    n = n % 500\n",
        "    coin_list.append(n//100)\n",
        "    n = n % 100\n",
        "    coin_list.append(n//50)\n",
        "    n = n % 50\n",
        "    coin_list.append(n//10)\n",
        "    print(coin_list)\n",
        "\n",
        "    print(\"500원짜리 동전의 갯수는\", coin_list[0], \"개\")\n",
        "    print(\"100원짜리 동전의 갯수는\", coin_list[1], \"개\")\n",
        "    print(\"50원짜리 동전의 갯수는\", coin_list[2], \"개\")\n",
        "    print(\"10원짜리 동전의 갯수는\", coin_list[3], \"개\")"
      ]
    },
    {
      "cell_type": "code",
      "source": [],
      "metadata": {
        "id": "nQcP_eGJyK5w"
      },
      "execution_count": null,
      "outputs": []
    }
  ]
}