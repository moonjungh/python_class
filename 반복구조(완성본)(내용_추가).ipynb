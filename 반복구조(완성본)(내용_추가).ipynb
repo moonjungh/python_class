{
  "nbformat": 4,
  "nbformat_minor": 0,
  "metadata": {
    "colab": {
      "name": "반복구조(완성본)(내용 추가).ipynb",
      "provenance": [],
      "collapsed_sections": [],
      "include_colab_link": true
    },
    "kernelspec": {
      "name": "python3",
      "display_name": "Python 3"
    }
  },
  "cells": [
    {
      "cell_type": "markdown",
      "metadata": {
        "id": "view-in-github",
        "colab_type": "text"
      },
      "source": [
        "<a href=\"https://colab.research.google.com/github/moonjungh/python_class/blob/main/%EB%B0%98%EB%B3%B5%EA%B5%AC%EC%A1%B0(%EC%99%84%EC%84%B1%EB%B3%B8)(%EB%82%B4%EC%9A%A9_%EC%B6%94%EA%B0%80).ipynb\" target=\"_parent\"><img src=\"https://colab.research.google.com/assets/colab-badge.svg\" alt=\"Open In Colab\"/></a>"
      ]
    },
    {
      "cell_type": "markdown",
      "metadata": {
        "id": "UCdFsLZvKa_C"
      },
      "source": [
        "# 1. 반복문\n",
        "<img src = 'https://github.com/teacher-jiejie/allinone_AI/blob/images/4_%EB%B0%98%EB%B3%B5%EB%AC%B8.png?raw=true' width=500>\n",
        "\n"
      ]
    },
    {
      "cell_type": "code",
      "metadata": {
        "id": "HyLrFLZQt46j",
        "colab": {
          "base_uri": "https://localhost:8080/",
          "height": 101
        },
        "outputId": "f5d0e7b0-f687-41d4-ae49-dfcdef3423c6"
      },
      "source": [
        "for a in [1,2,3,4,5] : \n",
        "    print('안녕하세요!')"
      ],
      "execution_count": null,
      "outputs": [
        {
          "output_type": "stream",
          "text": [
            "안녕하세요!\n",
            "안녕하세요!\n",
            "안녕하세요!\n",
            "안녕하세요!\n",
            "안녕하세요!\n"
          ],
          "name": "stdout"
        }
      ]
    },
    {
      "cell_type": "code",
      "metadata": {
        "id": "IQtiqCfit48u",
        "colab": {
          "base_uri": "https://localhost:8080/",
          "height": 101
        },
        "outputId": "177c5812-f5b2-4ff0-ca0d-b7b85f70bff0"
      },
      "source": [
        "for a in [1,2,3,4,5] : \n",
        "    print(a, '안녕하세요!')"
      ],
      "execution_count": null,
      "outputs": [
        {
          "output_type": "stream",
          "text": [
            "1 안녕하세요!\n",
            "2 안녕하세요!\n",
            "3 안녕하세요!\n",
            "4 안녕하세요!\n",
            "5 안녕하세요!\n"
          ],
          "name": "stdout"
        }
      ]
    },
    {
      "cell_type": "markdown",
      "metadata": {
        "id": "oEfcTfzDFlqS"
      },
      "source": [
        "<img src ='https://github.com/teacher-jiejie/allinone_AI/blob/images/5_%EB%B0%98%EB%B3%B5%EB%AC%B8%20%EB%8F%99%EC%9E%91%EA%B5%AC%EC%A1%B0.png?raw=true' width=500>"
      ]
    },
    {
      "cell_type": "markdown",
      "metadata": {
        "id": "wKvrSc-qou3A"
      },
      "source": [
        "# 2. range(시작숫자, 종료숫자)\n",
        "\n",
        "* range(a,b) # a부터 b-1까지 1씩 증가하는 수열을 생성한다.\n",
        "* range(a,b,2) # a부터 b-1까지 2씩 증가하는 수열을 생성한다.\n",
        "* range(b) # 앞에 0이 생략되어 있음을 의미. 0부터 b-1까지 1씩 증가하는 수열을 생성한다.\n",
        "\n",
        "\n",
        "    range(5,10)     #  5,6,7,8,9                  \n",
        "    range(5,10,2)   # 5,7,9                  \n",
        "    range(5)        # 0,1,2,3,4"
      ]
    },
    {
      "cell_type": "code",
      "metadata": {
        "colab": {
          "base_uri": "https://localhost:8080/"
        },
        "id": "v5KMYQfk0ZVn",
        "outputId": "a5a351bd-735c-4094-e607-00107c9419d7"
      },
      "source": [
        "for a in range(1, 10) : \n",
        "    print(a, '선생님, 다시는 청소를 빼먹지 않겠습니다')"
      ],
      "execution_count": null,
      "outputs": [
        {
          "output_type": "stream",
          "text": [
            "1 선생님, 다시는 청소를 빼먹지 않겠습니다\n",
            "2 선생님, 다시는 청소를 빼먹지 않겠습니다\n",
            "3 선생님, 다시는 청소를 빼먹지 않겠습니다\n",
            "4 선생님, 다시는 청소를 빼먹지 않겠습니다\n",
            "5 선생님, 다시는 청소를 빼먹지 않겠습니다\n",
            "6 선생님, 다시는 청소를 빼먹지 않겠습니다\n",
            "7 선생님, 다시는 청소를 빼먹지 않겠습니다\n",
            "8 선생님, 다시는 청소를 빼먹지 않겠습니다\n",
            "9 선생님, 다시는 청소를 빼먹지 않겠습니다\n"
          ],
          "name": "stdout"
        }
      ]
    },
    {
      "cell_type": "markdown",
      "metadata": {
        "id": "y1BgbiiV1H11"
      },
      "source": [
        "> range()는 종료숫자-1 까지 포함한다"
      ]
    },
    {
      "cell_type": "code",
      "metadata": {
        "colab": {
          "base_uri": "https://localhost:8080/"
        },
        "id": "tGmtMY-Z0k8p",
        "outputId": "0b72e82b-79b7-4f06-be80-557d02e63f84"
      },
      "source": [
        "for a in range(1, 11) : \n",
        "    print(a, '선생님, 다시는 청소를 빼먹지 않겠습니다')"
      ],
      "execution_count": null,
      "outputs": [
        {
          "output_type": "stream",
          "text": [
            "1 선생님, 다시는 청소를 빼먹지 않겠습니다\n",
            "2 선생님, 다시는 청소를 빼먹지 않겠습니다\n",
            "3 선생님, 다시는 청소를 빼먹지 않겠습니다\n",
            "4 선생님, 다시는 청소를 빼먹지 않겠습니다\n",
            "5 선생님, 다시는 청소를 빼먹지 않겠습니다\n",
            "6 선생님, 다시는 청소를 빼먹지 않겠습니다\n",
            "7 선생님, 다시는 청소를 빼먹지 않겠습니다\n",
            "8 선생님, 다시는 청소를 빼먹지 않겠습니다\n",
            "9 선생님, 다시는 청소를 빼먹지 않겠습니다\n",
            "10 선생님, 다시는 청소를 빼먹지 않겠습니다\n"
          ],
          "name": "stdout"
        }
      ]
    },
    {
      "cell_type": "markdown",
      "metadata": {
        "id": "_8ebt0AF1bAw"
      },
      "source": [
        "> range()에서 시작숫자가 0일 때에는 생략 가능"
      ]
    },
    {
      "cell_type": "code",
      "metadata": {
        "colab": {
          "base_uri": "https://localhost:8080/"
        },
        "id": "B1X6olKc1kuJ",
        "outputId": "1034afb0-3007-4098-9016-972d9f81be35"
      },
      "source": [
        "for a in range(10) : \n",
        "    print(a, '선생님, 다시는 청소를 빼먹지 않겠습니다')"
      ],
      "execution_count": null,
      "outputs": [
        {
          "output_type": "stream",
          "text": [
            "0 선생님, 다시는 청소를 빼먹지 않겠습니다\n",
            "1 선생님, 다시는 청소를 빼먹지 않겠습니다\n",
            "2 선생님, 다시는 청소를 빼먹지 않겠습니다\n",
            "3 선생님, 다시는 청소를 빼먹지 않겠습니다\n",
            "4 선생님, 다시는 청소를 빼먹지 않겠습니다\n",
            "5 선생님, 다시는 청소를 빼먹지 않겠습니다\n",
            "6 선생님, 다시는 청소를 빼먹지 않겠습니다\n",
            "7 선생님, 다시는 청소를 빼먹지 않겠습니다\n",
            "8 선생님, 다시는 청소를 빼먹지 않겠습니다\n",
            "9 선생님, 다시는 청소를 빼먹지 않겠습니다\n"
          ],
          "name": "stdout"
        }
      ]
    },
    {
      "cell_type": "markdown",
      "metadata": {
        "id": "nDc1ylrt03nH"
      },
      "source": [
        "# 3. for i in data :\n",
        "일반적으로 반복문에서는 i라는 변수를 사용합니다"
      ]
    },
    {
      "cell_type": "markdown",
      "metadata": {
        "id": "uYdboDiW4n7G"
      },
      "source": [
        "1부터 50까지의 숫자의 합을 구해보자.\n",
        "ex) 1+2+3+...49+50"
      ]
    },
    {
      "cell_type": "code",
      "metadata": {
        "colab": {
          "base_uri": "https://localhost:8080/"
        },
        "id": "qQGYUE-M4nZD",
        "outputId": "055b2a22-3294-4f8e-ec57-f61d3a78ba39"
      },
      "source": [
        "result = 0\n",
        "\n",
        "for i in range(1, 51) : \n",
        "    result += i\n",
        "\n",
        "print(result)"
      ],
      "execution_count": null,
      "outputs": [
        {
          "output_type": "stream",
          "text": [
            "1275\n"
          ],
          "name": "stdout"
        }
      ]
    },
    {
      "cell_type": "markdown",
      "metadata": {
        "id": "ZFSryQew5TMk"
      },
      "source": [
        "숫자 하나를 입력받고, 1부터 입력받은 숫자까지의 곱을 구해보세요.\n",
        "<br/>\n",
        "ex) 5를 입력받은 경우, 1x2x3x4x5 결과 출력하기"
      ]
    },
    {
      "cell_type": "code",
      "metadata": {
        "colab": {
          "base_uri": "https://localhost:8080/"
        },
        "id": "J8hgPMKC06eR",
        "outputId": "cc11ab35-cc52-48c5-f575-8dd114ec2c6b"
      },
      "source": [
        "num = int(input('숫자 입력 -> '))\n",
        "result = 1\n",
        "\n",
        "for i in range(1, num+1) : \n",
        "    result *= i\n",
        "\n",
        "print(result)"
      ],
      "execution_count": null,
      "outputs": [
        {
          "output_type": "stream",
          "text": [
            "숫자 입력 -> 5\n",
            "120\n"
          ],
          "name": "stdout"
        }
      ]
    },
    {
      "cell_type": "markdown",
      "metadata": {
        "id": "wHPuVO9W57ym"
      },
      "source": [
        "# 4. 구구단 출력 프로그램\n",
        "4단 출력하기 <br/>\n",
        "\n",
        "```\n",
        "4 x 1 = 4\n",
        "4 x 2 = 8\n",
        "...\n",
        "4 x 8 = 32\n",
        "4 x 9 = 36\n",
        "```\n",
        "\n",
        "\n"
      ]
    },
    {
      "cell_type": "code",
      "metadata": {
        "colab": {
          "base_uri": "https://localhost:8080/"
        },
        "id": "3g1T-QQw5u2b",
        "outputId": "7f99aed6-ad8b-4c37-b112-49ede01e0d82"
      },
      "source": [
        "for i in range(1, 10) : \n",
        "    print('4 x', i, '=', 4*i)"
      ],
      "execution_count": null,
      "outputs": [
        {
          "output_type": "stream",
          "text": [
            "4 x 1 = 4\n",
            "4 x 2 = 8\n",
            "4 x 3 = 12\n",
            "4 x 4 = 16\n",
            "4 x 5 = 20\n",
            "4 x 6 = 24\n",
            "4 x 7 = 28\n",
            "4 x 8 = 32\n",
            "4 x 9 = 36\n"
          ],
          "name": "stdout"
        }
      ]
    },
    {
      "cell_type": "markdown",
      "metadata": {
        "id": "v_SeRM6N7IH8"
      },
      "source": [
        "구구단 외울 단을 입력받아, 해당 숫자의 구구단을 외워봅시다.<br/>\n",
        "ex. 5를 입력받으면 5단 외우기"
      ]
    },
    {
      "cell_type": "code",
      "metadata": {
        "colab": {
          "base_uri": "https://localhost:8080/"
        },
        "id": "wvdfZY6F7ChW",
        "outputId": "0041872d-48d7-416c-8b1a-5aff3302adaa"
      },
      "source": [
        "num = int(input('몇 단을 외워볼까요? '))\n",
        "\n",
        "for i in range(1, 10) : \n",
        "    print(num, 'x', i, '=', num*i)"
      ],
      "execution_count": null,
      "outputs": [
        {
          "output_type": "stream",
          "text": [
            "몇 단을 외워볼까요? 19\n",
            "19 x 1 = 19\n",
            "19 x 2 = 38\n",
            "19 x 3 = 57\n",
            "19 x 4 = 76\n",
            "19 x 5 = 95\n",
            "19 x 6 = 114\n",
            "19 x 7 = 133\n",
            "19 x 8 = 152\n",
            "19 x 9 = 171\n"
          ],
          "name": "stdout"
        }
      ]
    },
    {
      "cell_type": "markdown",
      "source": [
        "# 5. 중첩 for문\n",
        "기본적으로 for문 안의 블록은 반복의 대상이 되는데 블록 안에 for문이 또 들어감으로써 반복 작업이 이중으로 일어나는 구조이다. 이러한 구조를 '중첩 for문'이라고 한다."
      ],
      "metadata": {
        "id": "u3JiwNPTKI_g"
      }
    },
    {
      "cell_type": "code",
      "source": [
        "for i in range(1,5):\n",
        "    for j in range(1,3):\n",
        "        print(i,j)"
      ],
      "metadata": {
        "colab": {
          "base_uri": "https://localhost:8080/"
        },
        "id": "N8YYRHVFLC1q",
        "outputId": "2cbc313a-bf51-4590-b1c0-96301635d4b8"
      },
      "execution_count": null,
      "outputs": [
        {
          "output_type": "stream",
          "name": "stdout",
          "text": [
            "1 1\n",
            "1 2\n",
            "2 1\n",
            "2 2\n",
            "3 1\n",
            "3 2\n",
            "4 1\n",
            "4 2\n"
          ]
        }
      ]
    },
    {
      "cell_type": "markdown",
      "source": [
        "**ex. 중첩for문을 사용하여 2단~9단까지의 구구단을 완성해보자.**"
      ],
      "metadata": {
        "id": "hzsk4syrMQ9v"
      }
    },
    {
      "cell_type": "code",
      "source": [
        "for i in range(2,10):\n",
        "    for j in range(1,10):\n",
        "        print(i, \"*\", j,\"=\",i*j)\n",
        "    print() # 단과 단 사이 한 줄 띄우기"
      ],
      "metadata": {
        "colab": {
          "base_uri": "https://localhost:8080/"
        },
        "id": "kqU6KT8LMRzM",
        "outputId": "15f294a7-93f4-4bb0-9d92-c4ab8b15229f"
      },
      "execution_count": null,
      "outputs": [
        {
          "output_type": "stream",
          "name": "stdout",
          "text": [
            "2 * 1 = 2\n",
            "2 * 2 = 4\n",
            "2 * 3 = 6\n",
            "2 * 4 = 8\n",
            "2 * 5 = 10\n",
            "2 * 6 = 12\n",
            "2 * 7 = 14\n",
            "2 * 8 = 16\n",
            "2 * 9 = 18\n",
            "\n",
            "3 * 1 = 3\n",
            "3 * 2 = 6\n",
            "3 * 3 = 9\n",
            "3 * 4 = 12\n",
            "3 * 5 = 15\n",
            "3 * 6 = 18\n",
            "3 * 7 = 21\n",
            "3 * 8 = 24\n",
            "3 * 9 = 27\n",
            "\n",
            "4 * 1 = 4\n",
            "4 * 2 = 8\n",
            "4 * 3 = 12\n",
            "4 * 4 = 16\n",
            "4 * 5 = 20\n",
            "4 * 6 = 24\n",
            "4 * 7 = 28\n",
            "4 * 8 = 32\n",
            "4 * 9 = 36\n",
            "\n",
            "5 * 1 = 5\n",
            "5 * 2 = 10\n",
            "5 * 3 = 15\n",
            "5 * 4 = 20\n",
            "5 * 5 = 25\n",
            "5 * 6 = 30\n",
            "5 * 7 = 35\n",
            "5 * 8 = 40\n",
            "5 * 9 = 45\n",
            "\n",
            "6 * 1 = 6\n",
            "6 * 2 = 12\n",
            "6 * 3 = 18\n",
            "6 * 4 = 24\n",
            "6 * 5 = 30\n",
            "6 * 6 = 36\n",
            "6 * 7 = 42\n",
            "6 * 8 = 48\n",
            "6 * 9 = 54\n",
            "\n",
            "7 * 1 = 7\n",
            "7 * 2 = 14\n",
            "7 * 3 = 21\n",
            "7 * 4 = 28\n",
            "7 * 5 = 35\n",
            "7 * 6 = 42\n",
            "7 * 7 = 49\n",
            "7 * 8 = 56\n",
            "7 * 9 = 63\n",
            "\n",
            "8 * 1 = 8\n",
            "8 * 2 = 16\n",
            "8 * 3 = 24\n",
            "8 * 4 = 32\n",
            "8 * 5 = 40\n",
            "8 * 6 = 48\n",
            "8 * 7 = 56\n",
            "8 * 8 = 64\n",
            "8 * 9 = 72\n",
            "\n",
            "9 * 1 = 9\n",
            "9 * 2 = 18\n",
            "9 * 3 = 27\n",
            "9 * 4 = 36\n",
            "9 * 5 = 45\n",
            "9 * 6 = 54\n",
            "9 * 7 = 63\n",
            "9 * 8 = 72\n",
            "9 * 9 = 81\n",
            "\n"
          ]
        }
      ]
    },
    {
      "cell_type": "markdown",
      "source": [
        "**ex. for문을 이용하여 재미있는 텍스트 도형을 만들 수 있다. 다음 도형이 출력되도록 프로그램을 작성해보자.**\n",
        "\n",
        "\n",
        "[실행 결과]\n",
        "\n",
        "![화면 캡처 2022-08-21 113352.jpg](data:image/jpeg;base64,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)\n",
        "\n",
        "![화면 캡처 2022-08-21 114617.jpg](data:image/jpeg;base64,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)"
      ],
      "metadata": {
        "id": "Pw_e1G1gPXpY"
      }
    },
    {
      "cell_type": "code",
      "source": [
        "for i in range(5):\n",
        "    for j in range(i+1):\n",
        "        print(\"*\",end = \"\")  \n",
        "    print()"
      ],
      "metadata": {
        "colab": {
          "base_uri": "https://localhost:8080/"
        },
        "id": "rgCxslzdQNue",
        "outputId": "91ee706a-fae3-45e0-cf3d-8a2e9e4ba2c9"
      },
      "execution_count": null,
      "outputs": [
        {
          "output_type": "stream",
          "name": "stdout",
          "text": [
            "*\n",
            "**\n",
            "***\n",
            "****\n",
            "*****\n"
          ]
        }
      ]
    },
    {
      "cell_type": "markdown",
      "source": [
        "# 6. while문\n",
        "while문은 if문의 구조와 마찬가지로 조건이 참이면 while문이 포함하는 명령들을 실행한다. if문과의 차이점은 조건이 참일 동안 계속 반복해서 실행한다는 점이다.\n",
        "\n",
        "**ex. 입력받은 값이 양수인 동안 입력받은 수가 짝수인지 홀수인지 출력해주는 프로그램을 작성해보자.**"
      ],
      "metadata": {
        "id": "NyTFJe6CDYSB"
      }
    },
    {
      "cell_type": "code",
      "source": [
        "n = int(input())\n",
        "while n >= 0 :\n",
        "    if n%2 == 0:\n",
        "        print(n,\"짝수\")\n",
        "    else:\n",
        "        print(n,\"홀수\")\n",
        "    n = int(input())"
      ],
      "metadata": {
        "colab": {
          "base_uri": "https://localhost:8080/"
        },
        "id": "HH9aNQueDZb-",
        "outputId": "5572f196-ab30-4118-96df-8132201324bc"
      },
      "execution_count": null,
      "outputs": [
        {
          "name": "stdout",
          "output_type": "stream",
          "text": [
            "3\n",
            "3 홀수\n",
            "6\n",
            "6 짝수\n",
            "-1\n"
          ]
        }
      ]
    },
    {
      "cell_type": "markdown",
      "metadata": {
        "id": "_uWiKA3x7tVP"
      },
      "source": [
        "# 7. 랜덤 구구단 게임 작성하기\n",
        "\n",
        "랜덤으로 곱셈문제를 내고, 답을 맞추는 게임"
      ]
    },
    {
      "cell_type": "markdown",
      "metadata": {
        "id": "1CLls7wl72Yr"
      },
      "source": [
        "### 라이브러리란\n",
        "<img src='https://github.com/teacher-jiejie/allinone_AI/blob/images/47_%EB%9D%BC%EC%9D%B4%EB%B8%8C%EB%9F%AC%EB%A6%AC.png?raw=true' width=500>\n",
        "<br/>\n",
        "<br/>\n",
        "\n",
        "<img src='https://github.com/teacher-jiejie/allinone_AI/blob/images/48_%EB%9D%BC%EC%9D%B4%EB%B8%8C%EB%9F%AC%EB%A6%AC.png?raw=true' width=500>"
      ]
    },
    {
      "cell_type": "code",
      "metadata": {
        "colab": {
          "base_uri": "https://localhost:8080/"
        },
        "id": "dZkX0MhL7dsF",
        "outputId": "cd56573c-ca44-41d1-b024-08aec026c80b"
      },
      "source": [
        "import random\n",
        "\n",
        "random.random()"
      ],
      "execution_count": null,
      "outputs": [
        {
          "output_type": "execute_result",
          "data": {
            "text/plain": [
              "0.8932936422942704"
            ]
          },
          "metadata": {
            "tags": []
          },
          "execution_count": 24
        }
      ]
    },
    {
      "cell_type": "code",
      "metadata": {
        "colab": {
          "base_uri": "https://localhost:8080/"
        },
        "id": "as2Vnvfb8eV-",
        "outputId": "bc2996cb-79cf-4f91-b2c0-11445a20e4a6"
      },
      "source": [
        "help(random.random)"
      ],
      "execution_count": null,
      "outputs": [
        {
          "output_type": "stream",
          "text": [
            "Help on built-in function random:\n",
            "\n",
            "random(...) method of random.Random instance\n",
            "    random() -> x in the interval [0, 1).\n",
            "\n"
          ],
          "name": "stdout"
        }
      ]
    },
    {
      "cell_type": "code",
      "metadata": {
        "colab": {
          "base_uri": "https://localhost:8080/"
        },
        "id": "TZd2F3ZE8hMs",
        "outputId": "ade3c9cd-601e-4b58-a9ad-ee217b917e3a"
      },
      "source": [
        "random.randint(1, 10)"
      ],
      "execution_count": null,
      "outputs": [
        {
          "output_type": "execute_result",
          "data": {
            "text/plain": [
              "3"
            ]
          },
          "metadata": {
            "tags": []
          },
          "execution_count": 38
        }
      ]
    },
    {
      "cell_type": "code",
      "metadata": {
        "colab": {
          "base_uri": "https://localhost:8080/"
        },
        "id": "iRxkK6oJ9PaH",
        "outputId": "0eb73972-958a-43dd-adf5-717baf80b3a9"
      },
      "source": [
        "help(random.randint)"
      ],
      "execution_count": null,
      "outputs": [
        {
          "output_type": "stream",
          "text": [
            "Help on method randint in module random:\n",
            "\n",
            "randint(a, b) method of random.Random instance\n",
            "    Return random integer in range [a, b], including both end points.\n",
            "\n"
          ],
          "name": "stdout"
        }
      ]
    },
    {
      "cell_type": "markdown",
      "metadata": {
        "id": "xH8dkBjp9g2I"
      },
      "source": [
        "구구단 게임 형식 \n",
        "\n",
        "\n",
        "```\n",
        "구구단을 외자! 구구단을 외자! \n",
        "7 x 9 ? 63\n",
        "3 x 7 ? 21\n",
        "....\n",
        "```\n",
        "\n"
      ]
    },
    {
      "cell_type": "code",
      "metadata": {
        "colab": {
          "base_uri": "https://localhost:8080/"
        },
        "id": "X307OmrI9RAr",
        "outputId": "3d1699e8-8116-48e1-a3fa-48982ed48e8d"
      },
      "source": [
        "import random\n",
        "\n",
        "for i in range(5) : \n",
        "    num1 = random.randint(2, 9)\n",
        "    num2 = random.randint(1, 9)\n",
        "    print(num1, 'x', num2,'?')"
      ],
      "execution_count": null,
      "outputs": [
        {
          "output_type": "stream",
          "text": [
            "9 x 8 ?\n",
            "5 x 2 ?\n",
            "3 x 2 ?\n",
            "6 x 5 ?\n",
            "6 x 7 ?\n"
          ],
          "name": "stdout"
        }
      ]
    },
    {
      "cell_type": "markdown",
      "metadata": {
        "id": "WWRqZgGm-ZtL"
      },
      "source": [
        "구구단 게임에 입력칸을 만들어주자!"
      ]
    },
    {
      "cell_type": "code",
      "metadata": {
        "colab": {
          "base_uri": "https://localhost:8080/"
        },
        "id": "RMtCyLNw-Xii",
        "outputId": "38467334-7964-4a12-f1b4-fbbb83249ffc"
      },
      "source": [
        "import random\n",
        "\n",
        "for i in range(5) : \n",
        "    num1 = random.randint(2, 9)\n",
        "    num2 = random.randint(1, 9)\n",
        "    question = str(num1)+' x '+str(num2)+' ? '\n",
        "    input(question)"
      ],
      "execution_count": null,
      "outputs": [
        {
          "output_type": "stream",
          "text": [
            "6 x 5 ? 30\n",
            "9 x 7 ? 42\n",
            "2 x 2 ? 4\n",
            "9 x 2 ? 1\n",
            "2 x 1 ? 1\n"
          ],
          "name": "stdout"
        }
      ]
    },
    {
      "cell_type": "markdown",
      "metadata": {
        "id": "yhW5H934_Lw6"
      },
      "source": [
        "# 6. 반복문 안의 조건문\n",
        "랜덤 구구단 게임에서 입력된 답이 틀렸을 때, '땡! 정답은 00입니다' 출력하기"
      ]
    },
    {
      "cell_type": "code",
      "metadata": {
        "colab": {
          "base_uri": "https://localhost:8080/"
        },
        "id": "7n-5WOkm-p0w",
        "outputId": "900ec9ef-b57a-4689-ba4c-a32fa5eb0a57"
      },
      "source": [
        "for i in range(5) : \n",
        "    num1 = random.randint(2, 9)\n",
        "    num2 = random.randint(1, 9)\n",
        "    question = str(num1)+' x '+str(num2)+' ? '\n",
        "    # 입력된 답을 변수에 저장하기\n",
        "    answer = int(input(question))\n",
        "\n",
        "    if answer != num1*num2 : \n",
        "        print('땡! 정답은', num1*num2)"
      ],
      "execution_count": null,
      "outputs": [
        {
          "output_type": "stream",
          "text": [
            "8 x 8 ? 5\n",
            "땡! 정답은 64\n",
            "5 x 6 ? 6\n",
            "땡! 정답은 30\n",
            "9 x 2 ? 1\n",
            "땡! 정답은 18\n",
            "5 x 8 ? 40\n",
            "8 x 6 ? 48\n"
          ],
          "name": "stdout"
        }
      ]
    },
    {
      "cell_type": "markdown",
      "metadata": {
        "id": "qDNUZNuU__KR"
      },
      "source": [
        "1부터 30까지 숫자의 홀수 짝수 판별하기"
      ]
    },
    {
      "cell_type": "code",
      "metadata": {
        "colab": {
          "base_uri": "https://localhost:8080/"
        },
        "id": "D-vRuwUl_ykp",
        "outputId": "7eb54908-9720-4caa-fb38-8ebd76c7709d"
      },
      "source": [
        "for i in range(1, 31) : \n",
        "    if i%2 == 1 : \n",
        "        print(i, '홀수')\n",
        "    else : \n",
        "        print(i, '짝수')"
      ],
      "execution_count": null,
      "outputs": [
        {
          "output_type": "stream",
          "text": [
            "1 홀수\n",
            "2 짝수\n",
            "3 홀수\n",
            "4 짝수\n",
            "5 홀수\n",
            "6 짝수\n",
            "7 홀수\n",
            "8 짝수\n",
            "9 홀수\n",
            "10 짝수\n",
            "11 홀수\n",
            "12 짝수\n",
            "13 홀수\n",
            "14 짝수\n",
            "15 홀수\n",
            "16 짝수\n",
            "17 홀수\n",
            "18 짝수\n",
            "19 홀수\n",
            "20 짝수\n",
            "21 홀수\n",
            "22 짝수\n",
            "23 홀수\n",
            "24 짝수\n",
            "25 홀수\n",
            "26 짝수\n",
            "27 홀수\n",
            "28 짝수\n",
            "29 홀수\n",
            "30 짝수\n"
          ],
          "name": "stdout"
        }
      ]
    },
    {
      "cell_type": "code",
      "metadata": {
        "id": "SoaJb-WVAZqu"
      },
      "source": [
        ""
      ],
      "execution_count": null,
      "outputs": []
    }
  ]
}