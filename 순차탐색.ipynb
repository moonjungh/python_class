{
  "nbformat": 4,
  "nbformat_minor": 0,
  "metadata": {
    "colab": {
      "provenance": [],
      "authorship_tag": "ABX9TyMuK6FTbYzteTrvtqSJDONK",
      "include_colab_link": true
    },
    "kernelspec": {
      "name": "python3",
      "display_name": "Python 3"
    },
    "language_info": {
      "name": "python"
    }
  },
  "cells": [
    {
      "cell_type": "markdown",
      "metadata": {
        "id": "view-in-github",
        "colab_type": "text"
      },
      "source": [
        "<a href=\"https://colab.research.google.com/github/moonjungh/python_class/blob/main/%EC%88%9C%EC%B0%A8%ED%83%90%EC%83%89.ipynb\" target=\"_parent\"><img src=\"https://colab.research.google.com/assets/colab-badge.svg\" alt=\"Open In Colab\"/></a>"
      ]
    },
    {
      "cell_type": "code",
      "execution_count": 5,
      "metadata": {
        "colab": {
          "base_uri": "https://localhost:8080/"
        },
        "id": "r7Jd5MwDHW5A",
        "outputId": "bcac429b-6415-451f-9f51-64aa6c6bb180"
      },
      "outputs": [
        {
          "output_type": "stream",
          "name": "stdout",
          "text": [
            "번호:55\n",
            "55 는 리스트에 없습니다.\n"
          ]
        }
      ],
      "source": [
        "num_list = [12,19,24,29,35,57,62,77,79,84]\n",
        "i = 0\n",
        "check = 0\n",
        "find_data = int(input(\"번호:\"))\n",
        "for i in range(0,len(num_list)):\n",
        "    if num_list[i] == find_data:\n",
        "        print(find_data,\"는\", i+1,'번째 위치에 있습니다.')\n",
        "        check = 1\n",
        "if check == 0:\n",
        "    print(find_data,\"는 리스트에 없습니다.\")\n",
        "\n"
      ]
    },
    {
      "cell_type": "code",
      "source": [],
      "metadata": {
        "id": "MT0Lzv74LLDB"
      },
      "execution_count": null,
      "outputs": []
    }
  ]
}